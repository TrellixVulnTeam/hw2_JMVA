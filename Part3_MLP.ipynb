{
 "cells": [
  {
   "cell_type": "markdown",
   "id": "616125a5-44b0-4f3c-a80a-3f836432bb33",
   "metadata": {
    "pycharm": {
     "name": "#%% md\n"
    },
    "tags": []
   },
   "source": [
    "$$\n",
    "\\newcommand{\\mat}[1]{\\boldsymbol {#1}}\n",
    "\\newcommand{\\mattr}[1]{\\boldsymbol {#1}^\\top}\n",
    "\\newcommand{\\matinv}[1]{\\boldsymbol {#1}^{-1}}\n",
    "\\newcommand{\\vec}[1]{\\boldsymbol {#1}}\n",
    "\\newcommand{\\vectr}[1]{\\boldsymbol {#1}^\\top}\n",
    "\\newcommand{\\rvar}[1]{\\mathrm {#1}}\n",
    "\\newcommand{\\rvec}[1]{\\boldsymbol{\\mathrm{#1}}}\n",
    "\\newcommand{\\diag}{\\mathop{\\mathrm {diag}}}\n",
    "\\newcommand{\\set}[1]{\\mathbb {#1}}\n",
    "\\newcommand{\\norm}[1]{\\left\\lVert#1\\right\\rVert}\n",
    "\\newcommand{\\pderiv}[2]{\\frac{\\partial #1}{\\partial #2}}\n",
    "\\newcommand{\\bb}[1]{\\boldsymbol{#1}}\n",
    "$$\n",
    "# Part 3: Binary Classification with Multilayer Perceptrons\n",
    "<a id=part3></a>"
   ]
  },
  {
   "cell_type": "markdown",
   "id": "f0c9b321-1628-41c7-8dab-91437899c9ff",
   "metadata": {
    "pycharm": {
     "name": "#%% md\n"
    }
   },
   "source": [
    "In this part we'll implement a general purpose MLP and Binary Classifier using `pytorch`.\n",
    "We'll implement its training, and also learn about decision boundaries an threshold selection in the context of binary classification. Finally, we'll explore the effect of depth and width on an MLP's performance."
   ]
  },
  {
   "cell_type": "code",
   "execution_count": 1,
   "id": "9e441a96-79a3-4423-b5e4-23b54a4487ef",
   "metadata": {
    "pycharm": {
     "name": "#%%\n"
    },
    "tags": []
   },
   "outputs": [],
   "source": [
    "import os\n",
    "import re\n",
    "import sys\n",
    "import glob\n",
    "import unittest\n",
    "from typing import Sequence, Tuple\n",
    "\n",
    "import sklearn\n",
    "import numpy as np\n",
    "import matplotlib.pyplot as plt\n",
    "import torch\n",
    "import torchvision\n",
    "import torch.nn as nn\n",
    "import torchvision.transforms as tvtf\n",
    "from torch import Tensor\n",
    "\n",
    "%matplotlib inline\n",
    "%load_ext autoreload\n",
    "%autoreload 2"
   ]
  },
  {
   "cell_type": "code",
   "execution_count": 2,
   "id": "ca7a4eda-6598-46be-9c1c-df7487ab78e4",
   "metadata": {
    "pycharm": {
     "name": "#%%\n"
    },
    "tags": []
   },
   "outputs": [],
   "source": [
    "seed = 42\n",
    "device = torch.device('cuda' if torch.cuda.is_available() else 'cpu')\n",
    "plt.rcParams.update({'font.size': 12})\n",
    "test = unittest.TestCase()"
   ]
  },
  {
   "cell_type": "markdown",
   "id": "bf6e37bd-40a7-487b-b678-1962dd14e462",
   "metadata": {
    "pycharm": {
     "name": "#%% md\n"
    },
    "tags": []
   },
   "source": [
    "## Synthetic Dataset"
   ]
  },
  {
   "cell_type": "markdown",
   "id": "9996a04e-8691-47c5-bfce-2a695a59d905",
   "metadata": {
    "pycharm": {
     "name": "#%% md\n"
    }
   },
   "source": [
    "To test our first neural network-based classifiers we'll start by creating a toy binary classification dataset, but one which is not trivial for a linear model."
   ]
  },
  {
   "cell_type": "code",
   "execution_count": 3,
   "id": "7a186f0f-af89-480f-af20-1ecdf6aa8e52",
   "metadata": {
    "pycharm": {
     "name": "#%%\n"
    },
    "tags": []
   },
   "outputs": [],
   "source": [
    "from sklearn.datasets import make_moons\n",
    "from sklearn.model_selection import train_test_split"
   ]
  },
  {
   "cell_type": "code",
   "execution_count": 4,
   "id": "dc91127c-211a-4b62-9e50-9032bf13334d",
   "metadata": {
    "pycharm": {
     "name": "#%%\n"
    },
    "tags": []
   },
   "outputs": [],
   "source": [
    "def rotate_2d(X, deg=0):\n",
    "    \"\"\"\n",
    "    Rotates each 2d sample in X of shape (N, 2) by deg degrees.\n",
    "    \"\"\"\n",
    "    a = np.deg2rad(deg)\n",
    "    return X @ np.array([[np.cos(a), -np.sin(a)],[np.sin(a), np.cos(a)]]).T\n",
    "\n",
    "def plot_dataset_2d(X, y, n_classes=2, alpha=0.2, figsize=(8, 6), title=None, ax=None):\n",
    "    if ax is None:\n",
    "        fig, ax = plt.subplots(1, 1, figsize=figsize)\n",
    "    for c in range(n_classes):\n",
    "        ax.scatter(*X[y==c,:].T, alpha=alpha, label=f\"class {c}\");\n",
    "        \n",
    "    ax.set_xlabel(\"$x_1$\"); ax.set_ylabel(\"$x_2$\");\n",
    "    ax.legend(); ax.set_title((title or '') + f\" (n={len(y)})\")"
   ]
  },
  {
   "cell_type": "markdown",
   "id": "260b9d76-db7e-40be-a6ba-f14aa49cc5d2",
   "metadata": {
    "pycharm": {
     "name": "#%% md\n"
    }
   },
   "source": [
    "We'll split our data into 80% train and validation, and 20% test.\n",
    "To make it a bit more challenging, we'll simulate a somewhat real-world setting where there are multiple populations, and the training/validation data is not sampled iid from the underlying data distribution."
   ]
  },
  {
   "cell_type": "code",
   "execution_count": 5,
   "id": "b054e214-f0e3-48e7-93a7-2d72f1961b36",
   "metadata": {
    "pycharm": {
     "name": "#%%\n"
    },
    "tags": []
   },
   "outputs": [],
   "source": [
    "np.random.seed(seed)\n",
    "\n",
    "N = 10_000\n",
    "N_train = int(N * .8)\n",
    "\n",
    "# Create data from two different distributions for the training/validation\n",
    "X1, y1 = make_moons(n_samples=N_train//2, noise=0.2)\n",
    "X1 = rotate_2d(X1, deg=10)\n",
    "X2, y2 = make_moons(n_samples=N_train//2, noise=0.25)\n",
    "X2 = rotate_2d(X2, deg=50)\n",
    "\n",
    "# Test data comes from a similar but noisier distribution\n",
    "X3, y3 = make_moons(n_samples=(N-N_train), noise=0.3)\n",
    "X3 = rotate_2d(X3, deg=40)\n",
    "\n",
    "X, y = np.vstack([X1, X2, X3]), np.hstack([y1, y2, y3])"
   ]
  },
  {
   "cell_type": "code",
   "execution_count": 6,
   "id": "83e2770d-5f64-4adf-b1bf-43967079dfae",
   "metadata": {
    "pycharm": {
     "name": "#%%\n"
    },
    "tags": []
   },
   "outputs": [
    {
     "data": {
      "image/png": "[encoded data removed]",
      "text/plain": [
       "<Figure size 1440x360 with 3 Axes>"
      ]
     },
     "metadata": {
      "needs_background": "light"
     },
     "output_type": "display_data"
    }
   ],
   "source": [
    "# Train and validation data is from mixture distribution\n",
    "X_train, X_valid, y_train, y_valid = train_test_split(X[:N_train, :], y[:N_train], test_size=1/3, shuffle=False)\n",
    "\n",
    "# Test data is only from the second distribution\n",
    "X_test, y_test = X[N_train:, :], y[N_train:]\n",
    "\n",
    "fig, ax = plt.subplots(1, 3, figsize=(20, 5))\n",
    "plot_dataset_2d(X_train, y_train, title='Train', ax=ax[0]);\n",
    "plot_dataset_2d(X_valid, y_valid, title='Validation', ax=ax[1]);\n",
    "plot_dataset_2d(X_test, y_test, title='Test', ax=ax[2]);"
   ]
  },
  {
   "cell_type": "markdown",
   "id": "f70852c5-365b-4ad3-a0a4-2f368f6c272d",
   "metadata": {
    "pycharm": {
     "name": "#%% md\n"
    }
   },
   "source": [
    "Now let us create a data loader for each dataset."
   ]
  },
  {
   "cell_type": "code",
   "execution_count": 7,
   "id": "236c61d3-f89f-4a00-a8dc-0a7761edcb36",
   "metadata": {
    "pycharm": {
     "name": "#%%\n"
    },
    "tags": []
   },
   "outputs": [
    {
     "name": "stdout",
     "output_type": "stream",
     "text": [
      "len(dl_train.dataset)=5333, len(dl_valid.dataset)=2667, len(dl_test.dataset)=2000\n"
     ]
    }
   ],
   "source": [
    "from torch.utils.data import TensorDataset\n",
    "from torch.utils.data import DataLoader\n",
    "\n",
    "batch_size = 32\n",
    "\n",
    "dl_train, dl_valid, dl_test = [\n",
    "    DataLoader(\n",
    "        dataset=TensorDataset(\n",
    "            torch.from_numpy(X_).to(torch.float32),\n",
    "            torch.from_numpy(y_)\n",
    "        ),\n",
    "        shuffle=True,\n",
    "        num_workers=0,\n",
    "        batch_size=batch_size\n",
    "    )\n",
    "    for X_, y_ in [(X_train, y_train), (X_valid, y_valid), (X_test, y_test)]\n",
    "]\n",
    "\n",
    "print(f'{len(dl_train.dataset)=}, {len(dl_valid.dataset)=}, {len(dl_test.dataset)=}')"
   ]
  },
  {
   "cell_type": "markdown",
   "id": "cc2ed41b-56c9-4276-835f-ccf9418279f9",
   "metadata": {
    "pycharm": {
     "name": "#%% md\n"
    },
    "tags": []
   },
   "source": [
    "## Simple MLP"
   ]
  },
  {
   "cell_type": "markdown",
   "id": "15ab056b-bbb4-42e0-8da2-479ac769ce18",
   "metadata": {
    "pycharm": {
     "name": "#%% md\n"
    }
   },
   "source": [
    "A multilayer-perceptron is arguably a the most basic type of neural network model.\n",
    "It is composed of $L$ **layers**, each layer $l$ with $n_l$ **perceptron** (\"neuron\") units.\n",
    "Each perceptron is connected to all ouputs of the previous layer (or all inputs in the first layer), calculates their weighted sum, applies a linearity and produces a single output.\n",
    "\n",
    "<center><img src=\"imgs/mlp.png\" width=1000 /></center>"
   ]
  },
  {
   "cell_type": "markdown",
   "id": "e9cd7e74-e4b4-45e6-995a-56aca6d2912e",
   "metadata": {
    "pycharm": {
     "name": "#%% md\n"
    }
   },
   "source": [
    "Each layer $l$ operates on the output of the previous layer ($\\vec{y}_{l-1}$) and calculates:\n",
    "\n",
    "$$\n",
    "\\vec{y}_l = \\varphi\\left( \\mat{W}_l \\vec{y}_{l-1} + \\vec{b}_l \\right),~\n",
    "\\mat{W}_l\\in\\set{R}^{n_{l}\\times n_{l-1}},~ \\vec{b}_l\\in\\set{R}^{n_l},~ l \\in \\{1,2,\\dots,L\\}.\n",
    "$$\n",
    "\n",
    "- Note that both input and output are **vectors**. We can think of the above equation as describing a layer of **multiple perceptrons**.\n",
    "- We'll henceforth refer to such layers as **fully-connected** or FC layers.\n",
    "- The first layer accepts the input of the model, i.e. $\\vec{y}_0=\\vec{x}\\in\\set{R}^d$.\n",
    "- The last layer, $L$, is the output layer, so $y_L$ is the output of the model.\n",
    "- The layers $1, 2, \\dots, L-1$ are called hidden layers."
   ]
  },
  {
   "cell_type": "markdown",
   "id": "a8ae72f8-4ccc-47bf-a29c-1a4d819077ab",
   "metadata": {
    "pycharm": {
     "name": "#%% md\n"
    }
   },
   "source": [
    "To begin, let's implement a general multi-layer perceptron model.\n",
    "We'll seek to implement it in a way which is both general in terms of architecture, and also composable so that we can use our MLP in the context of larger models."
   ]
  },
  {
   "cell_type": "markdown",
   "id": "84d578f2-79eb-4368-86dd-73ee4a272514",
   "metadata": {
    "pycharm": {
     "name": "#%% md\n"
    }
   },
   "source": [
    "**TODO**: Implement the `MLP` class in the `hw2/mlp.py` module."
   ]
  },
  {
   "cell_type": "code",
   "execution_count": 15,
   "id": "0d70e5bf-5571-483d-9402-e06f9533fba5",
   "metadata": {
    "pycharm": {
     "name": "#%%\n"
    },
    "tags": []
   },
   "outputs": [
    {
     "data": {
      "text/plain": [
       "MLP(\n",
       "  (layers): Sequential(\n",
       "    (0): Linear(in_features=2, out_features=8, bias=True)\n",
       "    (1): ReLU()\n",
       "    (2): Linear(in_features=8, out_features=16, bias=True)\n",
       "    (3): Tanh()\n",
       "    (4): Linear(in_features=16, out_features=32, bias=True)\n",
       "    (5): LeakyReLU(negative_slope=0.314)\n",
       "    (6): Linear(in_features=32, out_features=64, bias=True)\n",
       "    (7): Softmax(dim=1)\n",
       "  )\n",
       ")"
      ]
     },
     "execution_count": 15,
     "metadata": {},
     "output_type": "execute_result"
    }
   ],
   "source": [
    "from hw2.mlp import MLP\n",
    "\n",
    "mlp = MLP(\n",
    "    in_dim=2,\n",
    "    dims=[8, 16, 32, 64],\n",
    "    nonlins=['relu', 'tanh', nn.LeakyReLU(0.314), 'softmax']\n",
    ")\n",
    "mlp"
   ]
  },
  {
   "cell_type": "markdown",
   "id": "c957d6d5-b901-4ded-975b-180c158d0d8d",
   "metadata": {
    "pycharm": {
     "name": "#%% md\n"
    }
   },
   "source": [
    "Let's try our implementation on a batch of data."
   ]
  },
  {
   "cell_type": "code",
   "execution_count": 16,
   "id": "2f23fa58-e592-4b94-bc6e-1880071a6689",
   "metadata": {
    "pycharm": {
     "name": "#%%\n"
    },
    "tags": []
   },
   "outputs": [
    {
     "data": {
      "text/plain": [
       "tensor([[0.0145, 0.0153, 0.0165,  ..., 0.0138, 0.0179, 0.0186],\n",
       "        [0.0134, 0.0147, 0.0151,  ..., 0.0139, 0.0177, 0.0189],\n",
       "        [0.0141, 0.0152, 0.0160,  ..., 0.0139, 0.0179, 0.0182],\n",
       "        ...,\n",
       "        [0.0138, 0.0150, 0.0157,  ..., 0.0139, 0.0179, 0.0188],\n",
       "        [0.0141, 0.0152, 0.0161,  ..., 0.0139, 0.0180, 0.0183],\n",
       "        [0.0141, 0.0153, 0.0161,  ..., 0.0137, 0.0181, 0.0189]],\n",
       "       grad_fn=<SoftmaxBackward0>)"
      ]
     },
     "execution_count": 16,
     "metadata": {},
     "output_type": "execute_result"
    }
   ],
   "source": [
    "x0, y0 = next(iter(dl_train))\n",
    "\n",
    "yhat0 = mlp(x0)\n",
    "\n",
    "test.assertEqual(len([*mlp.parameters()]), 8)\n",
    "test.assertEqual(yhat0.shape, (batch_size, mlp.out_dim))\n",
    "test.assertTrue(torch.allclose(torch.sum(yhat0, dim=1), torch.tensor(1.0)))\n",
    "test.assertIsNotNone(yhat0.grad_fn)\n",
    "\n",
    "yhat0"
   ]
  },
  {
   "cell_type": "markdown",
   "id": "fb897572-a13d-46a1-98eb-b19e1d6d7324",
   "metadata": {
    "pycharm": {
     "name": "#%% md\n"
    },
    "tags": []
   },
   "source": [
    "## MLP for Binary Classification"
   ]
  },
  {
   "cell_type": "markdown",
   "id": "beba74f1-71a2-4619-afba-919610c3a102",
   "metadata": {
    "pycharm": {
     "name": "#%% md\n"
    }
   },
   "source": [
    "The MLP model we've implemented, while useful, is very general.\n",
    "For the task of binary classification, we would like to add some additional functionality to it: the ability to output a normalized score for a sample being in class one (which we interpret as a probability) and a prediction based on some threshold of this probability.\n",
    "In addition, we need some way to calculate a meaningful threshold based on the data and a trained model at hand.\n",
    "\n",
    "In order to maintain generality, we'll add this functionlity in the form of a wrapper: A `BinaryClassifier` class that can wrap any model producing two output features, and provide the the functionality stated above."
   ]
  },
  {
   "cell_type": "markdown",
   "id": "7c25cc39-cb26-4ca8-a914-6775b59eb540",
   "metadata": {
    "pycharm": {
     "name": "#%% md\n"
    }
   },
   "source": [
    "**TODO**: In the `hw2/classifier.py` module, implement the `BinaryClassifier` and the missing parts of its base class, `Classifier`. Read the method documentation carefully and implement accordingly.\n",
    "You can ignore the `roc_threshold` method at this stage."
   ]
  },
  {
   "cell_type": "code",
   "execution_count": 24,
   "id": "c019ee88-09ad-4a2b-8ead-92bfe5908388",
   "metadata": {
    "pycharm": {
     "name": "#%%\n"
    },
    "tags": []
   },
   "outputs": [
    {
     "name": "stdout",
     "output_type": "stream",
     "text": [
      "BinaryClassifier(\n",
      "  (model): MLP(\n",
      "    (layers): Sequential(\n",
      "      (0): Linear(in_features=2, out_features=10, bias=True)\n",
      "      (1): ReLU()\n",
      "      (2): Linear(in_features=10, out_features=10, bias=True)\n",
      "      (3): ReLU()\n",
      "      (4): Linear(in_features=10, out_features=10, bias=True)\n",
      "      (5): ReLU()\n",
      "      (6): Linear(in_features=10, out_features=2, bias=True)\n",
      "      (7): Identity()\n",
      "    )\n",
      "  )\n",
      ")\n"
     ]
    }
   ],
   "source": [
    "from hw2.classifier import BinaryClassifier\n",
    "\n",
    "bmlp4 = BinaryClassifier(\n",
    "    model=MLP(in_dim=2, dims=[*[10]*3, 2], nonlins=[*['relu']*3, 'none']),\n",
    "    threshold=0.5\n",
    ")\n",
    "print(bmlp4)\n",
    "\n",
    "# Test model\n",
    "test.assertEqual(len([*bmlp4.parameters()]), 8)\n",
    "test.assertIsNotNone(bmlp4(x0).grad_fn)\n",
    "\n",
    "# Test forward\n",
    "yhat0_scores = bmlp4(x0)\n",
    "test.assertEqual(yhat0_scores.shape, (batch_size, 2))\n",
    "test.assertFalse(torch.allclose(torch.sum(yhat0_scores, dim=1), torch.tensor(1.0)))\n",
    "\n",
    "# Test predict_proba\n",
    "yhat0_proba = bmlp4.predict_proba(x0)\n",
    "test.assertEqual(yhat0_proba.shape, (batch_size, 2))\n",
    "test.assertTrue(torch.allclose(torch.sum(yhat0_proba, dim=1), torch.tensor(1.0)))\n",
    "\n",
    "# Test classify\n",
    "yhat0 = bmlp4.classify(x0)\n",
    "test.assertEqual(yhat0.shape, (batch_size,))\n",
    "test.assertEqual(yhat0.dtype, torch.int)\n",
    "test.assertTrue(all(yh_ in (0, 1) for yh_ in yhat0))"
   ]
  },
  {
   "cell_type": "markdown",
   "id": "b3dbe90b-1be0-4f11-9ee4-39d9f2a2d15b",
   "metadata": {
    "pycharm": {
     "name": "#%% md\n"
    }
   },
   "source": [
    "### Training"
   ]
  },
  {
   "cell_type": "markdown",
   "id": "f83cb358-367e-49d9-a926-95f24a740440",
   "metadata": {
    "pycharm": {
     "name": "#%% md\n"
    }
   },
   "source": [
    "Now that we have a classifier, we need to train it.\n",
    "We will abstract the various aspects of training such as mlutiple epochs, iterating over batches, early stopping and saving model checkpoints, into a `Trainer` that will take care of these concerns."
   ]
  },
  {
   "cell_type": "markdown",
   "id": "083d2a94-78b1-40ed-ab8a-98801e6cf563",
   "metadata": {
    "pycharm": {
     "name": "#%% md\n"
    }
   },
   "source": [
    "The `Trainer` class splits the task of training (and evaluating) models into three conceptual levels,\n",
    "- Multiple epochs - the `fit` method, which returns a `FitResult` containing losses and accuracies for all epochs.\n",
    "- Single epoch - the `train_epoch` and `test_epoch` methods, which return an `EpochResult` containing losses per batch and the single accuracy result of the epoch.\n",
    "- Single batch - the `train_batch` and `test_batch` methods, which return a `BatchResult` containing a single loss and the number of correctly classified samples in the batch.\n",
    "\n",
    "It implements the first two levels. Inheriting classes are expected to implement the single-batch level methods since these are model and/or task specific."
   ]
  },
  {
   "cell_type": "markdown",
   "id": "681d4897-3a6b-4538-bf5f-79e4a14a9819",
   "metadata": {
    "pycharm": {
     "name": "#%% md\n"
    }
   },
   "source": [
    "**TODO**: \n",
    "\n",
    "1. Implement the `Trainer`'s `fit` method and the `ClassifierTrainer`'s `train_batch`/`test_batch` methods, in the `hw2/training.py` module. You may ignore the Optional parts about early stopping an model checkpoints at this stage.\n",
    "\n",
    "2. Set the model's architecture hyper-parameters and the optimizer hyperparameters in `part3_arch_hp()` and `part3_optim_hp()`, respectively, in `hw2/answers.py`.\n",
    "\n",
    "Since this is a toy dataset, you should be able to quickly get above 85% accuracy even on the test set."
   ]
  },
  {
   "cell_type": "code",
   "execution_count": 25,
   "id": "103848c9-81fb-4d28-85c5-8b3a0dd166c2",
   "metadata": {
    "pycharm": {
     "name": "#%%\n"
    },
    "tags": []
   },
   "outputs": [
    {
     "name": "stdout",
     "output_type": "stream",
     "text": [
      "BinaryClassifier(\n",
      "  (model): MLP(\n",
      "    (layers): Sequential(\n",
      "      (0): Linear(in_features=2, out_features=10, bias=True)\n",
      "      (1): Tanh()\n",
      "      (2): Linear(in_features=10, out_features=10, bias=True)\n",
      "      (3): Tanh()\n",
      "      (4): Linear(in_features=10, out_features=10, bias=True)\n",
      "      (5): Tanh()\n",
      "      (6): Linear(in_features=10, out_features=10, bias=True)\n",
      "      (7): Tanh()\n",
      "      (8): Linear(in_features=10, out_features=10, bias=True)\n",
      "      (9): Tanh()\n",
      "      (10): Linear(in_features=10, out_features=10, bias=True)\n",
      "      (11): Tanh()\n",
      "      (12): Linear(in_features=10, out_features=10, bias=True)\n",
      "      (13): Tanh()\n",
      "      (14): Linear(in_features=10, out_features=10, bias=True)\n",
      "      (15): Tanh()\n",
      "      (16): Linear(in_features=10, out_features=10, bias=True)\n",
      "      (17): Tanh()\n",
      "      (18): Linear(in_features=10, out_features=10, bias=True)\n",
      "      (19): Tanh()\n",
      "      (20): Linear(in_features=10, out_features=2, bias=True)\n",
      "      (21): Sigmoid()\n",
      "    )\n",
      "  )\n",
      ")\n",
      "--- EPOCH 1/20 ---\n"
     ]
    },
    {
     "data": {
      "application/vnd.jupyter.widget-view+json": {
       "model_id": "5724f17cf99f44069fa360306d37fc8f",
       "version_major": 2,
       "version_minor": 0
      },
      "text/plain": [
       "train_batch:   0%|          | 0/167 [00:00<?, ?it/s]"
      ]
     },
     "metadata": {},
     "output_type": "display_data"
    },
    {
     "ename": "RuntimeError",
     "evalue": "Expected floating point type for target with class probabilities, got Long",
     "output_type": "error",
     "traceback": [
      "\u001b[1;31m---------------------------------------------------------------------------\u001b[0m",
      "\u001b[1;31mRuntimeError\u001b[0m                              Traceback (most recent call last)",
      "Input \u001b[1;32mIn [25]\u001b[0m, in \u001b[0;36m<cell line: 23>\u001b[1;34m()\u001b[0m\n\u001b[0;32m     20\u001b[0m optimizer \u001b[38;5;241m=\u001b[39m torch\u001b[38;5;241m.\u001b[39moptim\u001b[38;5;241m.\u001b[39mSGD(params\u001b[38;5;241m=\u001b[39mmodel\u001b[38;5;241m.\u001b[39mparameters(), \u001b[38;5;241m*\u001b[39m\u001b[38;5;241m*\u001b[39mhp_optim)\n\u001b[0;32m     21\u001b[0m trainer \u001b[38;5;241m=\u001b[39m ClassifierTrainer(model, loss_fn, optimizer)\n\u001b[1;32m---> 23\u001b[0m fit_result \u001b[38;5;241m=\u001b[39m \u001b[43mtrainer\u001b[49m\u001b[38;5;241;43m.\u001b[39;49m\u001b[43mfit\u001b[49m\u001b[43m(\u001b[49m\u001b[43mdl_train\u001b[49m\u001b[43m,\u001b[49m\u001b[43m \u001b[49m\u001b[43mdl_valid\u001b[49m\u001b[43m,\u001b[49m\u001b[43m \u001b[49m\u001b[43mnum_epochs\u001b[49m\u001b[38;5;241;43m=\u001b[39;49m\u001b[38;5;241;43m20\u001b[39;49m\u001b[43m,\u001b[49m\u001b[43m \u001b[49m\u001b[43mprint_every\u001b[49m\u001b[38;5;241;43m=\u001b[39;49m\u001b[38;5;241;43m10\u001b[39;49m\u001b[43m)\u001b[49m;\n\u001b[0;32m     25\u001b[0m test\u001b[38;5;241m.\u001b[39massertGreaterEqual(fit_result\u001b[38;5;241m.\u001b[39mtrain_acc[\u001b[38;5;241m-\u001b[39m\u001b[38;5;241m1\u001b[39m], \u001b[38;5;241m85.0\u001b[39m)\n\u001b[0;32m     26\u001b[0m test\u001b[38;5;241m.\u001b[39massertGreaterEqual(fit_result\u001b[38;5;241m.\u001b[39mtest_acc[\u001b[38;5;241m-\u001b[39m\u001b[38;5;241m1\u001b[39m], \u001b[38;5;241m75.0\u001b[39m)\n",
      "File \u001b[1;32m~\\PycharmProjects\\hw2\\hw2\\training.py:86\u001b[0m, in \u001b[0;36mTrainer.fit\u001b[1;34m(self, dl_train, dl_test, num_epochs, checkpoints, early_stopping, print_every, **kw)\u001b[0m\n\u001b[0;32m     80\u001b[0m \u001b[38;5;28mself\u001b[39m\u001b[38;5;241m.\u001b[39m_print(\u001b[38;5;124mf\u001b[39m\u001b[38;5;124m\"\u001b[39m\u001b[38;5;124m--- EPOCH \u001b[39m\u001b[38;5;132;01m{\u001b[39;00mepoch \u001b[38;5;241m+\u001b[39m \u001b[38;5;241m1\u001b[39m\u001b[38;5;132;01m}\u001b[39;00m\u001b[38;5;124m/\u001b[39m\u001b[38;5;132;01m{\u001b[39;00mnum_epochs\u001b[38;5;132;01m}\u001b[39;00m\u001b[38;5;124m ---\u001b[39m\u001b[38;5;124m\"\u001b[39m, verbose)\n\u001b[0;32m     82\u001b[0m \u001b[38;5;66;03m# TODO: Train & evaluate for one epoch\u001b[39;00m\n\u001b[0;32m     83\u001b[0m \u001b[38;5;66;03m#  - Use the train/test_epoch methods.\u001b[39;00m\n\u001b[0;32m     84\u001b[0m \u001b[38;5;66;03m#  - Save losses and accuracies in the lists above.\u001b[39;00m\n\u001b[0;32m     85\u001b[0m \u001b[38;5;66;03m# ====== YOUR CODE: ======\u001b[39;00m\n\u001b[1;32m---> 86\u001b[0m train_result \u001b[38;5;241m=\u001b[39m \u001b[38;5;28;43mself\u001b[39;49m\u001b[38;5;241;43m.\u001b[39;49m\u001b[43mtrain_epoch\u001b[49m\u001b[43m(\u001b[49m\u001b[43mdl_train\u001b[49m\u001b[43m,\u001b[49m\u001b[43m \u001b[49m\u001b[38;5;241;43m*\u001b[39;49m\u001b[38;5;241;43m*\u001b[39;49m\u001b[43mkw\u001b[49m\u001b[43m)\u001b[49m\n\u001b[0;32m     87\u001b[0m train_acc\u001b[38;5;241m.\u001b[39mappend(train_result\u001b[38;5;241m.\u001b[39maccuracy)\n\u001b[0;32m     88\u001b[0m train_loss \u001b[38;5;241m+\u001b[39m\u001b[38;5;241m=\u001b[39m train_result\u001b[38;5;241m.\u001b[39mlosses\n",
      "File \u001b[1;32m~\\PycharmProjects\\hw2\\hw2\\training.py:132\u001b[0m, in \u001b[0;36mTrainer.train_epoch\u001b[1;34m(self, dl_train, **kw)\u001b[0m\n\u001b[0;32m    125\u001b[0m \u001b[38;5;124;03m\"\"\"\u001b[39;00m\n\u001b[0;32m    126\u001b[0m \u001b[38;5;124;03mTrain once over a training set (single epoch).\u001b[39;00m\n\u001b[0;32m    127\u001b[0m \u001b[38;5;124;03m:param dl_train: DataLoader for the training set.\u001b[39;00m\n\u001b[0;32m    128\u001b[0m \u001b[38;5;124;03m:param kw: Keyword args supported by _foreach_batch.\u001b[39;00m\n\u001b[0;32m    129\u001b[0m \u001b[38;5;124;03m:return: An EpochResult for the epoch.\u001b[39;00m\n\u001b[0;32m    130\u001b[0m \u001b[38;5;124;03m\"\"\"\u001b[39;00m\n\u001b[0;32m    131\u001b[0m \u001b[38;5;28mself\u001b[39m\u001b[38;5;241m.\u001b[39mmodel\u001b[38;5;241m.\u001b[39mtrain(\u001b[38;5;28;01mTrue\u001b[39;00m)  \u001b[38;5;66;03m# set train mode\u001b[39;00m\n\u001b[1;32m--> 132\u001b[0m \u001b[38;5;28;01mreturn\u001b[39;00m \u001b[38;5;28;43mself\u001b[39;49m\u001b[38;5;241;43m.\u001b[39;49m\u001b[43m_foreach_batch\u001b[49m\u001b[43m(\u001b[49m\u001b[43mdl_train\u001b[49m\u001b[43m,\u001b[49m\u001b[43m \u001b[49m\u001b[38;5;28;43mself\u001b[39;49m\u001b[38;5;241;43m.\u001b[39;49m\u001b[43mtrain_batch\u001b[49m\u001b[43m,\u001b[49m\u001b[43m \u001b[49m\u001b[38;5;241;43m*\u001b[39;49m\u001b[38;5;241;43m*\u001b[39;49m\u001b[43mkw\u001b[49m\u001b[43m)\u001b[49m\n",
      "File \u001b[1;32m~\\PycharmProjects\\hw2\\hw2\\training.py:208\u001b[0m, in \u001b[0;36mTrainer._foreach_batch\u001b[1;34m(dl, forward_fn, verbose, max_batches)\u001b[0m\n\u001b[0;32m    206\u001b[0m \u001b[38;5;28;01mfor\u001b[39;00m batch_idx \u001b[38;5;129;01min\u001b[39;00m \u001b[38;5;28mrange\u001b[39m(num_batches):\n\u001b[0;32m    207\u001b[0m     data \u001b[38;5;241m=\u001b[39m \u001b[38;5;28mnext\u001b[39m(dl_iter)\n\u001b[1;32m--> 208\u001b[0m     batch_res \u001b[38;5;241m=\u001b[39m \u001b[43mforward_fn\u001b[49m\u001b[43m(\u001b[49m\u001b[43mdata\u001b[49m\u001b[43m)\u001b[49m\n\u001b[0;32m    210\u001b[0m     pbar\u001b[38;5;241m.\u001b[39mset_description(\u001b[38;5;124mf\u001b[39m\u001b[38;5;124m\"\u001b[39m\u001b[38;5;132;01m{\u001b[39;00mpbar_name\u001b[38;5;132;01m}\u001b[39;00m\u001b[38;5;124m (\u001b[39m\u001b[38;5;132;01m{\u001b[39;00mbatch_res\u001b[38;5;241m.\u001b[39mloss\u001b[38;5;132;01m:\u001b[39;00m\u001b[38;5;124m.3f\u001b[39m\u001b[38;5;132;01m}\u001b[39;00m\u001b[38;5;124m)\u001b[39m\u001b[38;5;124m\"\u001b[39m)\n\u001b[0;32m    211\u001b[0m     pbar\u001b[38;5;241m.\u001b[39mupdate()\n",
      "File \u001b[1;32m~\\PycharmProjects\\hw2\\hw2\\training.py:273\u001b[0m, in \u001b[0;36mClassifierTrainer.train_batch\u001b[1;34m(self, batch)\u001b[0m\n\u001b[0;32m    271\u001b[0m y_prob \u001b[38;5;241m=\u001b[39m bc\u001b[38;5;241m.\u001b[39mpredict_proba(X)\n\u001b[0;32m    272\u001b[0m y_hat \u001b[38;5;241m=\u001b[39m bc\u001b[38;5;241m.\u001b[39mclassify(y_prob)\n\u001b[1;32m--> 273\u001b[0m batch_loss \u001b[38;5;241m=\u001b[39m \u001b[38;5;28;43mself\u001b[39;49m\u001b[38;5;241;43m.\u001b[39;49m\u001b[43mloss_fn\u001b[49m\u001b[43m(\u001b[49m\u001b[43my_hat\u001b[49m\u001b[43m,\u001b[49m\u001b[43m \u001b[49m\u001b[43my\u001b[49m\u001b[43m)\u001b[49m\n\u001b[0;32m    274\u001b[0m \u001b[38;5;28mself\u001b[39m\u001b[38;5;241m.\u001b[39moptimizer\u001b[38;5;241m.\u001b[39mzero_grad()\n\u001b[0;32m    275\u001b[0m dout \u001b[38;5;241m=\u001b[39m \u001b[38;5;28mself\u001b[39m\u001b[38;5;241m.\u001b[39mloss_fn\u001b[38;5;241m.\u001b[39mbackward()\n",
      "File \u001b[1;32m~\\miniconda3\\envs\\cs236781-hw\\lib\\site-packages\\torch\\nn\\modules\\module.py:1102\u001b[0m, in \u001b[0;36mModule._call_impl\u001b[1;34m(self, *input, **kwargs)\u001b[0m\n\u001b[0;32m   1098\u001b[0m \u001b[38;5;66;03m# If we don't have any hooks, we want to skip the rest of the logic in\u001b[39;00m\n\u001b[0;32m   1099\u001b[0m \u001b[38;5;66;03m# this function, and just call forward.\u001b[39;00m\n\u001b[0;32m   1100\u001b[0m \u001b[38;5;28;01mif\u001b[39;00m \u001b[38;5;129;01mnot\u001b[39;00m (\u001b[38;5;28mself\u001b[39m\u001b[38;5;241m.\u001b[39m_backward_hooks \u001b[38;5;129;01mor\u001b[39;00m \u001b[38;5;28mself\u001b[39m\u001b[38;5;241m.\u001b[39m_forward_hooks \u001b[38;5;129;01mor\u001b[39;00m \u001b[38;5;28mself\u001b[39m\u001b[38;5;241m.\u001b[39m_forward_pre_hooks \u001b[38;5;129;01mor\u001b[39;00m _global_backward_hooks\n\u001b[0;32m   1101\u001b[0m         \u001b[38;5;129;01mor\u001b[39;00m _global_forward_hooks \u001b[38;5;129;01mor\u001b[39;00m _global_forward_pre_hooks):\n\u001b[1;32m-> 1102\u001b[0m     \u001b[38;5;28;01mreturn\u001b[39;00m \u001b[43mforward_call\u001b[49m\u001b[43m(\u001b[49m\u001b[38;5;241;43m*\u001b[39;49m\u001b[38;5;28;43minput\u001b[39;49m\u001b[43m,\u001b[49m\u001b[43m \u001b[49m\u001b[38;5;241;43m*\u001b[39;49m\u001b[38;5;241;43m*\u001b[39;49m\u001b[43mkwargs\u001b[49m\u001b[43m)\u001b[49m\n\u001b[0;32m   1103\u001b[0m \u001b[38;5;66;03m# Do not call functions when jit is used\u001b[39;00m\n\u001b[0;32m   1104\u001b[0m full_backward_hooks, non_full_backward_hooks \u001b[38;5;241m=\u001b[39m [], []\n",
      "File \u001b[1;32m~\\miniconda3\\envs\\cs236781-hw\\lib\\site-packages\\torch\\nn\\modules\\loss.py:1150\u001b[0m, in \u001b[0;36mCrossEntropyLoss.forward\u001b[1;34m(self, input, target)\u001b[0m\n\u001b[0;32m   1149\u001b[0m \u001b[38;5;28;01mdef\u001b[39;00m \u001b[38;5;21mforward\u001b[39m(\u001b[38;5;28mself\u001b[39m, \u001b[38;5;28minput\u001b[39m: Tensor, target: Tensor) \u001b[38;5;241m-\u001b[39m\u001b[38;5;241m>\u001b[39m Tensor:\n\u001b[1;32m-> 1150\u001b[0m     \u001b[38;5;28;01mreturn\u001b[39;00m \u001b[43mF\u001b[49m\u001b[38;5;241;43m.\u001b[39;49m\u001b[43mcross_entropy\u001b[49m\u001b[43m(\u001b[49m\u001b[38;5;28;43minput\u001b[39;49m\u001b[43m,\u001b[49m\u001b[43m \u001b[49m\u001b[43mtarget\u001b[49m\u001b[43m,\u001b[49m\u001b[43m \u001b[49m\u001b[43mweight\u001b[49m\u001b[38;5;241;43m=\u001b[39;49m\u001b[38;5;28;43mself\u001b[39;49m\u001b[38;5;241;43m.\u001b[39;49m\u001b[43mweight\u001b[49m\u001b[43m,\u001b[49m\n\u001b[0;32m   1151\u001b[0m \u001b[43m                           \u001b[49m\u001b[43mignore_index\u001b[49m\u001b[38;5;241;43m=\u001b[39;49m\u001b[38;5;28;43mself\u001b[39;49m\u001b[38;5;241;43m.\u001b[39;49m\u001b[43mignore_index\u001b[49m\u001b[43m,\u001b[49m\u001b[43m \u001b[49m\u001b[43mreduction\u001b[49m\u001b[38;5;241;43m=\u001b[39;49m\u001b[38;5;28;43mself\u001b[39;49m\u001b[38;5;241;43m.\u001b[39;49m\u001b[43mreduction\u001b[49m\u001b[43m,\u001b[49m\n\u001b[0;32m   1152\u001b[0m \u001b[43m                           \u001b[49m\u001b[43mlabel_smoothing\u001b[49m\u001b[38;5;241;43m=\u001b[39;49m\u001b[38;5;28;43mself\u001b[39;49m\u001b[38;5;241;43m.\u001b[39;49m\u001b[43mlabel_smoothing\u001b[49m\u001b[43m)\u001b[49m\n",
      "File \u001b[1;32m~\\miniconda3\\envs\\cs236781-hw\\lib\\site-packages\\torch\\nn\\functional.py:2846\u001b[0m, in \u001b[0;36mcross_entropy\u001b[1;34m(input, target, weight, size_average, ignore_index, reduce, reduction, label_smoothing)\u001b[0m\n\u001b[0;32m   2844\u001b[0m \u001b[38;5;28;01mif\u001b[39;00m size_average \u001b[38;5;129;01mis\u001b[39;00m \u001b[38;5;129;01mnot\u001b[39;00m \u001b[38;5;28;01mNone\u001b[39;00m \u001b[38;5;129;01mor\u001b[39;00m reduce \u001b[38;5;129;01mis\u001b[39;00m \u001b[38;5;129;01mnot\u001b[39;00m \u001b[38;5;28;01mNone\u001b[39;00m:\n\u001b[0;32m   2845\u001b[0m     reduction \u001b[38;5;241m=\u001b[39m _Reduction\u001b[38;5;241m.\u001b[39mlegacy_get_string(size_average, reduce)\n\u001b[1;32m-> 2846\u001b[0m \u001b[38;5;28;01mreturn\u001b[39;00m \u001b[43mtorch\u001b[49m\u001b[38;5;241;43m.\u001b[39;49m\u001b[43m_C\u001b[49m\u001b[38;5;241;43m.\u001b[39;49m\u001b[43m_nn\u001b[49m\u001b[38;5;241;43m.\u001b[39;49m\u001b[43mcross_entropy_loss\u001b[49m\u001b[43m(\u001b[49m\u001b[38;5;28;43minput\u001b[39;49m\u001b[43m,\u001b[49m\u001b[43m \u001b[49m\u001b[43mtarget\u001b[49m\u001b[43m,\u001b[49m\u001b[43m \u001b[49m\u001b[43mweight\u001b[49m\u001b[43m,\u001b[49m\u001b[43m \u001b[49m\u001b[43m_Reduction\u001b[49m\u001b[38;5;241;43m.\u001b[39;49m\u001b[43mget_enum\u001b[49m\u001b[43m(\u001b[49m\u001b[43mreduction\u001b[49m\u001b[43m)\u001b[49m\u001b[43m,\u001b[49m\u001b[43m \u001b[49m\u001b[43mignore_index\u001b[49m\u001b[43m,\u001b[49m\u001b[43m \u001b[49m\u001b[43mlabel_smoothing\u001b[49m\u001b[43m)\u001b[49m\n",
      "\u001b[1;31mRuntimeError\u001b[0m: Expected floating point type for target with class probabilities, got Long"
     ]
    }
   ],
   "source": [
    "from hw2.training import ClassifierTrainer\n",
    "from hw2.answers import part3_arch_hp, part3_optim_hp\n",
    "\n",
    "torch.manual_seed(seed)\n",
    "\n",
    "hp_arch = part3_arch_hp()\n",
    "hp_optim = part3_optim_hp()\n",
    "\n",
    "model = BinaryClassifier(\n",
    "    model=MLP(\n",
    "        in_dim=2,\n",
    "        dims=[*[hp_arch['hidden_dims'],]*hp_arch['n_layers'], 2],\n",
    "        nonlins=[*[hp_arch['activation'],]*hp_arch['n_layers'], hp_arch['out_activation']]\n",
    "    ),\n",
    "    threshold=0.5,\n",
    ")\n",
    "print(model)\n",
    "\n",
    "loss_fn = hp_optim.pop('loss_fn')\n",
    "optimizer = torch.optim.SGD(params=model.parameters(), **hp_optim)\n",
    "trainer = ClassifierTrainer(model, loss_fn, optimizer)\n",
    "\n",
    "fit_result = trainer.fit(dl_train, dl_valid, num_epochs=20, print_every=10);\n",
    "\n",
    "test.assertGreaterEqual(fit_result.train_acc[-1], 85.0)\n",
    "test.assertGreaterEqual(fit_result.test_acc[-1], 75.0)"
   ]
  },
  {
   "cell_type": "code",
   "execution_count": 26,
   "id": "528caaab-dd42-40d7-9db7-944726e7d35d",
   "metadata": {
    "pycharm": {
     "name": "#%%\n"
    },
    "tags": []
   },
   "outputs": [
    {
     "ename": "NameError",
     "evalue": "name 'fit_result' is not defined",
     "output_type": "error",
     "traceback": [
      "\u001b[1;31m---------------------------------------------------------------------------\u001b[0m",
      "\u001b[1;31mNameError\u001b[0m                                 Traceback (most recent call last)",
      "Input \u001b[1;32mIn [26]\u001b[0m, in \u001b[0;36m<cell line: 3>\u001b[1;34m()\u001b[0m\n\u001b[0;32m      1\u001b[0m \u001b[38;5;28;01mfrom\u001b[39;00m \u001b[38;5;21;01mcs236781\u001b[39;00m\u001b[38;5;21;01m.\u001b[39;00m\u001b[38;5;21;01mplot\u001b[39;00m \u001b[38;5;28;01mimport\u001b[39;00m plot_fit\n\u001b[1;32m----> 3\u001b[0m plot_fit(\u001b[43mfit_result\u001b[49m, log_loss\u001b[38;5;241m=\u001b[39m\u001b[38;5;28;01mFalse\u001b[39;00m, train_test_overlay\u001b[38;5;241m=\u001b[39m\u001b[38;5;28;01mTrue\u001b[39;00m)\n",
      "\u001b[1;31mNameError\u001b[0m: name 'fit_result' is not defined"
     ]
    }
   ],
   "source": [
    "from cs236781.plot import plot_fit\n",
    "\n",
    "plot_fit(fit_result, log_loss=False, train_test_overlay=True);"
   ]
  },
  {
   "cell_type": "markdown",
   "id": "7a029b22-155b-46bd-b599-a5cfb3e979b0",
   "metadata": {
    "pycharm": {
     "name": "#%% md\n"
    },
    "tags": []
   },
   "source": [
    "### Decision Boundary"
   ]
  },
  {
   "cell_type": "markdown",
   "id": "59a5a191-7696-423d-9366-0d5d57fc8b8e",
   "metadata": {
    "pycharm": {
     "name": "#%% md\n"
    }
   },
   "source": [
    "An important part of understanding what a non-linear classifier like our MLP is doing is visualizing it's decision boundaries. When we only have two input features, these are relatively simple to visualize, since we can simply plot our data on the plane, and evaluate our classifier on a constant 2D grid in order to approximate the decision boundary."
   ]
  },
  {
   "cell_type": "markdown",
   "id": "0aab8d8a-52a6-4844-9a11-3ac61ae74427",
   "metadata": {
    "pycharm": {
     "name": "#%% md\n"
    }
   },
   "source": [
    "**TODO**: Implement the `plot_decision_boundary_2d` function in the `hw2/classifier.py` module."
   ]
  },
  {
   "cell_type": "code",
   "execution_count": null,
   "id": "235a7e9b-23b6-4c67-ab1e-fcfcf1f588f3",
   "metadata": {
    "execution": {
     "iopub.execute_input": "2022-04-28T21:33:59.994538Z",
     "iopub.status.busy": "2022-04-28T21:33:59.994395Z",
     "iopub.status.idle": "2022-04-28T21:34:00.121665Z",
     "shell.execute_reply": "2022-04-28T21:34:00.121291Z"
    },
    "pycharm": {
     "name": "#%%\n"
    }
   },
   "outputs": [],
   "source": [
    "from hw2.classifier import plot_decision_boundary_2d\n",
    "\n",
    "fig, ax = plot_decision_boundary_2d(model, *dl_valid.dataset.tensors)"
   ]
  },
  {
   "cell_type": "markdown",
   "id": "4d5eceab-8dd9-46bc-9ad6-eb2885b3dc11",
   "metadata": {
    "pycharm": {
     "name": "#%% md\n"
    },
    "tags": []
   },
   "source": [
    "### Threshold Selection"
   ]
  },
  {
   "cell_type": "markdown",
   "id": "4f90dbe0-87f4-49a2-a53e-5aa516055fbf",
   "metadata": {
    "pycharm": {
     "name": "#%% md\n"
    }
   },
   "source": [
    "Another important component, especially in the context of binary classification is threshold selection. Until now, we arbitrarily chose a threshold of 0.5 when deciding the class label based on the probability score we calculated via softmax. In other words, we classified a sample to class 1 (the 'positive' class) when it's probability score was greater or equal to 0.5.\n",
    "\n",
    "However, in real-world classifiction problems we'll need to choose our threshold wisely based on the domain-specific requirements of the problem.\n",
    "For example, depending on our application, we might care more about high sensitivity (correctly classifying positive examples), while for other applications specificity (correctly classifying negative examples) is more important. "
   ]
  },
  {
   "cell_type": "markdown",
   "id": "fbcc2da7-4c4a-451c-8f85-3f82264b6deb",
   "metadata": {
    "pycharm": {
     "name": "#%% md\n"
    }
   },
   "source": [
    "One way to understand the mistakes a model is making is to look at its [Confusion Matrix](https://en.wikipedia.org/wiki/Confusion_matrix). From it, we easily see e.g. the false-negative rate (FNR) and false-positive rate (FPR).\n",
    "\n",
    "Let's look at the confusion matrices on the test and validation data using the model we trained above."
   ]
  },
  {
   "cell_type": "code",
   "execution_count": null,
   "id": "45be3635-b775-4a10-915e-4744c873f917",
   "metadata": {
    "execution": {
     "iopub.execute_input": "2022-04-28T21:34:00.124108Z",
     "iopub.status.busy": "2022-04-28T21:34:00.124015Z",
     "iopub.status.idle": "2022-04-28T21:34:00.222788Z",
     "shell.execute_reply": "2022-04-28T21:34:00.222451Z"
    },
    "pycharm": {
     "name": "#%%\n"
    }
   },
   "outputs": [],
   "source": [
    "from sklearn.metrics import confusion_matrix, ConfusionMatrixDisplay\n",
    "\n",
    "def plot_confusion(classifier, x: np.ndarray, y: np.ndarray, ax=None):\n",
    "    y_hat = classifier.classify(torch.from_numpy(x).to(torch.float32)).numpy()\n",
    "    conf_mat = confusion_matrix(y, y_hat, normalize='all')\n",
    "    ConfusionMatrixDisplay(conf_mat).plot(ax=ax, colorbar=False)\n",
    "    \n",
    "model.threshold = 0.5\n",
    "\n",
    "_, axes = plt.subplots(1, 2, figsize=(10, 5))\n",
    "axes[0].set_title(\"Train\"); axes[1].set_title(\"Validation\");\n",
    "plot_confusion(model, X_train, y_train, ax=axes[0])\n",
    "plot_confusion(model, X_valid, y_valid, ax=axes[1])"
   ]
  },
  {
   "cell_type": "markdown",
   "id": "570537e3-35fd-4d85-8499-3dbbb51300d5",
   "metadata": {
    "pycharm": {
     "name": "#%% md\n"
    }
   },
   "source": [
    "We can see that the model makes a different number of false-posiive and false-negative errors.\n",
    "Clearly, this proportion would change if the classification threshold was different.\n",
    "\n",
    "A very common way to select the classification threshold is to find a threshold which optimally balances between the FPR and FNR.\n",
    "This can be done by plotting the model's [ROC](https://en.wikipedia.org/wiki/Receiver_operating_characteristic) curve, which shows 1-FNR vs. FPR for multiple threshold values, and selecting the point closest to the ideal point (`(0, 1)`)."
   ]
  },
  {
   "cell_type": "markdown",
   "id": "0275b3f8-63c6-4f91-b0b8-e6c189d30736",
   "metadata": {
    "pycharm": {
     "name": "#%% md\n"
    }
   },
   "source": [
    "**TODO**: Implement the `select_roc_thresh` function in the `hw2.classifier` module."
   ]
  },
  {
   "cell_type": "code",
   "execution_count": null,
   "id": "5b8e5e51-4ebf-4ec8-843a-f7a5288a5952",
   "metadata": {
    "execution": {
     "iopub.execute_input": "2022-04-28T21:34:00.224773Z",
     "iopub.status.busy": "2022-04-28T21:34:00.224662Z",
     "iopub.status.idle": "2022-04-28T21:34:00.314985Z",
     "shell.execute_reply": "2022-04-28T21:34:00.314664Z"
    },
    "pycharm": {
     "name": "#%%\n"
    }
   },
   "outputs": [],
   "source": [
    "from hw2.classifier import select_roc_thresh\n",
    "\n",
    "\n",
    "optimal_thresh = select_roc_thresh(model, *dl_valid.dataset.tensors, plot=True)"
   ]
  },
  {
   "cell_type": "markdown",
   "id": "e9fbd531-00b4-4b89-8a38-8c8b46966d76",
   "metadata": {
    "pycharm": {
     "name": "#%% md\n"
    }
   },
   "source": [
    "Let's see the effect of our threshold selection on the confusion matrix and decision boundary."
   ]
  },
  {
   "cell_type": "code",
   "execution_count": null,
   "id": "b80a88eb-539c-4279-9666-83b2a80eae96",
   "metadata": {
    "execution": {
     "iopub.execute_input": "2022-04-28T21:34:00.316927Z",
     "iopub.status.busy": "2022-04-28T21:34:00.316804Z",
     "iopub.status.idle": "2022-04-28T21:34:00.503514Z",
     "shell.execute_reply": "2022-04-28T21:34:00.503220Z"
    },
    "pycharm": {
     "name": "#%%\n"
    }
   },
   "outputs": [],
   "source": [
    "model.threshold = optimal_thresh\n",
    "\n",
    "_, axes = plt.subplots(1, 2, figsize=(10, 5))\n",
    "axes[0].set_title(\"Train\"); axes[1].set_title(\"Validation\");\n",
    "plot_confusion(model, X_train, y_train, ax=axes[0])\n",
    "plot_confusion(model, X_valid, y_valid, ax=axes[1])\n",
    "fig, ax = plot_decision_boundary_2d(model, *dl_valid.dataset.tensors)"
   ]
  },
  {
   "cell_type": "markdown",
   "id": "0556b168-a25e-46ae-b0fc-da829410e326",
   "metadata": {
    "pycharm": {
     "name": "#%% md\n"
    },
    "tags": []
   },
   "source": [
    "### Architecture Experiments"
   ]
  },
  {
   "cell_type": "markdown",
   "id": "5003b586-a500-41a1-bb8a-995243eb5c62",
   "metadata": {
    "pycharm": {
     "name": "#%% md\n"
    }
   },
   "source": [
    "Now, equipped with the tools we've implemented so far we'll expertiment with various MLP architectures.\n",
    "We'll seek to study the effect of the models depth (number of hidden layers) and width (number of neurons per hidden layer) on the its decision boundaries and the resulting performance.\n",
    "After training, we will use the validation set for threshold selection, and seek to maximize the performance on the test set."
   ]
  },
  {
   "cell_type": "markdown",
   "id": "4174a42c-3e19-486b-b1d2-874c3f7e82d4",
   "metadata": {
    "pycharm": {
     "name": "#%% md\n"
    }
   },
   "source": [
    "**TODO**: Implement the `mlp_experiment` function in `hw2/experiments.py`.\n",
    "You are free to configure any model and optimization hyperparameters however you like, except for the specified `width` and `depth`.\n",
    "Experiment with various options for these other hyperparameters and try to obtain the best results you can."
   ]
  },
  {
   "cell_type": "code",
   "execution_count": null,
   "id": "4572ad50-8ece-4e4d-ad76-7f0f3841757d",
   "metadata": {
    "execution": {
     "iopub.execute_input": "2022-04-28T21:34:00.505733Z",
     "iopub.status.busy": "2022-04-28T21:34:00.505610Z",
     "iopub.status.idle": "2022-04-28T21:34:23.205699Z",
     "shell.execute_reply": "2022-04-28T21:34:23.205378Z"
    },
    "pycharm": {
     "name": "#%%\n"
    }
   },
   "outputs": [],
   "source": [
    "from itertools import product\n",
    "from tqdm.auto import tqdm\n",
    "from hw2.experiments import mlp_experiment\n",
    "\n",
    "torch.manual_seed(seed)\n",
    "\n",
    "depths = [1, 2, 4]\n",
    "widths = [2, 8, 32, 128]\n",
    "exp_configs = product(enumerate(widths), enumerate(depths))\n",
    "fig, axes = plt.subplots(len(widths), len(depths), figsize=(10*len(depths), 10*len(widths)), squeeze=False)\n",
    "test_accs = []\n",
    "\n",
    "for (i, width), (j, depth) in tqdm(list(exp_configs)):\n",
    "    model, thresh, valid_acc, test_acc = mlp_experiment(\n",
    "        depth, width, dl_train, dl_valid, dl_test, n_epochs=10\n",
    "    )\n",
    "    test_accs.append(test_acc)\n",
    "    fig, ax = plot_decision_boundary_2d(model, *dl_test.dataset.tensors, ax=axes[i, j])\n",
    "    ax.set_title(f\"{depth=}, {width=}\")\n",
    "    ax.text(ax.get_xlim()[0]*.95, ax.get_ylim()[1]*.95, f\"{thresh=:.2f}\\n{valid_acc=:.1f}%\\n{test_acc=:.1f}%\", va=\"top\")\n",
    "    \n",
    "# Assert minimal performance requirements.\n",
    "# You should be able to do better than these by at least 5%.\n",
    "test.assertGreaterEqual(np.min(test_accs), 75.0)\n",
    "test.assertGreaterEqual(np.quantile(test_accs, 0.75), 85.0)"
   ]
  },
  {
   "cell_type": "markdown",
   "id": "8513cd7f-3e08-4191-9cd8-88c5824525a2",
   "metadata": {
    "pycharm": {
     "name": "#%% md\n"
    },
    "tags": []
   },
   "source": [
    "### Questions\n",
    "\n",
    "**TODO** Answer the following questions. Write your answers in the appropriate variables in the module `hw2/answers.py`.\n"
   ]
  },
  {
   "cell_type": "code",
   "execution_count": null,
   "id": "acf923a0-fcce-4649-a2d8-48556992f69f",
   "metadata": {
    "execution": {
     "iopub.execute_input": "2022-04-28T21:34:23.217641Z",
     "iopub.status.busy": "2022-04-28T21:34:23.217517Z",
     "iopub.status.idle": "2022-04-28T21:34:23.240634Z",
     "shell.execute_reply": "2022-04-28T21:34:23.240321Z"
    },
    "pycharm": {
     "name": "#%%\n"
    },
    "tags": []
   },
   "outputs": [],
   "source": [
    "from cs236781.answers import display_answer\n",
    "import hw2.answers"
   ]
  },
  {
   "cell_type": "markdown",
   "id": "1c943ac7-7d8d-4798-a491-ce17ef2a4f87",
   "metadata": {
    "pycharm": {
     "name": "#%% md\n"
    },
    "tags": []
   },
   "source": [
    "#### Question 1 \n",
    "\n",
    "Consider the first binary classifier you trained in this notebook and the loss/accuracy curves we plotted for it on the train and validation sets, as well as the decision boundary plot. \n",
    "\n",
    "Based on those plots, explain **qualitatively** whether or now your model has:\n",
    "1. High Optimization error?\n",
    "2. High Generalization error?\n",
    "2. High Approximation error?\n",
    "\n",
    "Explain your answers for each of the above.\n",
    "Since this is a qualitative question, assume \"high\" simply means \"I would take measures in order to decrease it further\"."
   ]
  },
  {
   "cell_type": "code",
   "execution_count": null,
   "id": "0e2e5766-2fba-421c-9742-2a8f80aff969",
   "metadata": {
    "execution": {
     "iopub.execute_input": "2022-04-28T21:34:23.242430Z",
     "iopub.status.busy": "2022-04-28T21:34:23.242342Z",
     "iopub.status.idle": "2022-04-28T21:34:23.264304Z",
     "shell.execute_reply": "2022-04-28T21:34:23.264036Z"
    },
    "pycharm": {
     "name": "#%%\n"
    }
   },
   "outputs": [],
   "source": [
    "display_answer(hw2.answers.part3_q1)"
   ]
  },
  {
   "cell_type": "markdown",
   "id": "1cc9268b-0fce-4044-9ac3-fdc3787b8b71",
   "metadata": {
    "pycharm": {
     "name": "#%% md\n"
    },
    "tags": []
   },
   "source": [
    "#### Question 2 \n",
    "\n",
    "Consider the first binary classifier you trained in this notebook and the confusion matrices we plotted for it. \n",
    "\n",
    "For the **validation** dataset, would you expect the FPR or the FNR to be higher, and why? Recall that you have full knowledge of the data generating process.\n"
   ]
  },
  {
   "cell_type": "code",
   "execution_count": null,
   "id": "d96df605-37e3-4f04-92e8-6b8fc03f145d",
   "metadata": {
    "execution": {
     "iopub.execute_input": "2022-04-28T21:34:23.266091Z",
     "iopub.status.busy": "2022-04-28T21:34:23.265981Z",
     "iopub.status.idle": "2022-04-28T21:34:23.288514Z",
     "shell.execute_reply": "2022-04-28T21:34:23.288228Z"
    },
    "pycharm": {
     "name": "#%%\n"
    }
   },
   "outputs": [],
   "source": [
    "display_answer(hw2.answers.part3_q2)"
   ]
  },
  {
   "cell_type": "markdown",
   "id": "da41c22e-b6ce-48aa-b24c-32ee30330a9f",
   "metadata": {
    "pycharm": {
     "name": "#%% md\n"
    },
    "tags": []
   },
   "source": [
    "#### Question 3 \n",
    "\n",
    "You're training a binary classifier screening of a large cohort of patients for some disease, with the aim to detect the disease early, before any symptoms appear.\n",
    "You train the model on easy-to-obtain features, so screening each individual patient is simple and low-cost.\n",
    "In case the model classifies a patient as sick, she must then be sent to furhter testing in order to confirm the illness. Assume that these further tests are expensive and involve high-risk to the patient. Assume also that once diagnosed, a low-cost treatment exists.\n",
    "\n",
    "You wish to screen as many people as possible at the lowest possible cost and loss of life.\n",
    "Would you still choose the same \"optimal\" point on the ROC curve as above?\n",
    "If not, how would you choose it?\n",
    "Answer these questions for two possible scenarios:\n",
    "\n",
    "1. A person with the disease will develop non-lethal symptoms that immediately confirm the diagnosis and can then be treated.\n",
    "2. A person with the disease shows no clear symptoms and may die with high probability if not diagnosed early enough, either by your model or by the expensive test.\n",
    "\n",
    "Explain your answers."
   ]
  },
  {
   "cell_type": "code",
   "execution_count": null,
   "id": "8272378e-9b15-400b-ab19-da016fea6cda",
   "metadata": {
    "execution": {
     "iopub.execute_input": "2022-04-28T21:34:23.290302Z",
     "iopub.status.busy": "2022-04-28T21:34:23.290202Z",
     "iopub.status.idle": "2022-04-28T21:34:23.310211Z",
     "shell.execute_reply": "2022-04-28T21:34:23.309955Z"
    },
    "pycharm": {
     "name": "#%%\n"
    }
   },
   "outputs": [],
   "source": [
    "display_answer(hw2.answers.part3_q3)"
   ]
  },
  {
   "cell_type": "markdown",
   "id": "c5b9f702-7c78-4444-bf7b-45deef63f036",
   "metadata": {
    "pycharm": {
     "name": "#%% md\n"
    },
    "tags": []
   },
   "source": [
    "#### Question 4 \n",
    "\n",
    "Analyze your results from the Architecture Experiment.\n",
    "\n",
    "1. Explain the decision boundaries and model performance you obtained for the columns (fixed `depth`, `width` varies).\n",
    "2. Explain the decision boundaries and model performance you obtained for the rows (fixed `width`, `depth` varies).\n",
    "3. Compare and explain the results for the following pairs of configurations, which have the same number of total parameters:\n",
    "    - `depth=1, width=32` and `depth=4, width=8`\n",
    "    - `depth=1, width=128` and `depth=4, width=32`\n",
    "3. Explain the effect of threshold selection on the validation set: did it improve the results on the test set? why?"
   ]
  },
  {
   "cell_type": "code",
   "execution_count": null,
   "id": "420c1321-744d-427a-beed-817022bfa256",
   "metadata": {
    "execution": {
     "iopub.execute_input": "2022-04-28T21:34:23.312081Z",
     "iopub.status.busy": "2022-04-28T21:34:23.311954Z",
     "iopub.status.idle": "2022-04-28T21:34:23.331573Z",
     "shell.execute_reply": "2022-04-28T21:34:23.331314Z"
    },
    "pycharm": {
     "name": "#%%\n"
    }
   },
   "outputs": [],
   "source": [
    "display_answer(hw2.answers.part3_q4)\n"
   ]
  }
 ],
 "metadata": {
  "kernelspec": {
   "display_name": "Python 3 (ipykernel)",
   "language": "python",
   "name": "python3"
  },
  "language_info": {
   "codemirror_mode": {
    "name": "ipython",
    "version": 3
   },
   "file_extension": ".py",
   "mimetype": "text/x-python",
   "name": "python",
   "nbconvert_exporter": "python",
   "pygments_lexer": "ipython3",
   "version": "3.8.12"
  },
  "widgets": {
   "application/vnd.jupyter.widget-state+json": {
    "state": {
     "02a3d246315140e4bf206f110104cf0b": {
      "model_module": "@jupyter-widgets/base",
      "model_module_version": "1.2.0",
      "model_name": "LayoutModel",
      "state": {
       "_model_module": "@jupyter-widgets/base",
       "_model_module_version": "1.2.0",
       "_model_name": "LayoutModel",
       "_view_count": null,
       "_view_module": "@jupyter-widgets/base",
       "_view_module_version": "1.2.0",
       "_view_name": "LayoutView",
       "align_content": null,
       "align_items": null,
       "align_self": null,
       "border": null,
       "bottom": null,
       "display": null,
       "flex": null,
       "flex_flow": null,
       "grid_area": null,
       "grid_auto_columns": null,
       "grid_auto_flow": null,
       "grid_auto_rows": null,
       "grid_column": null,
       "grid_gap": null,
       "grid_row": null,
       "grid_template_areas": null,
       "grid_template_columns": null,
       "grid_template_rows": null,
       "height": null,
       "justify_content": null,
       "justify_items": null,
       "left": null,
       "margin": null,
       "max_height": null,
       "max_width": null,
       "min_height": null,
       "min_width": null,
       "object_fit": null,
       "object_position": null,
       "order": null,
       "overflow": null,
       "overflow_x": null,
       "overflow_y": null,
       "padding": null,
       "right": null,
       "top": null,
       "visibility": null,
       "width": null
      }
     },
     "062bb7c157c742b9a70f415698a375a1": {
      "model_module": "@jupyter-widgets/base",
      "model_module_version": "1.2.0",
      "model_name": "LayoutModel",
      "state": {
       "_model_module": "@jupyter-widgets/base",
       "_model_module_version": "1.2.0",
       "_model_name": "LayoutModel",
       "_view_count": null,
       "_view_module": "@jupyter-widgets/base",
       "_view_module_version": "1.2.0",
       "_view_name": "LayoutView",
       "align_content": null,
       "align_items": null,
       "align_self": null,
       "border": null,
       "bottom": null,
       "display": null,
       "flex": null,
       "flex_flow": null,
       "grid_area": null,
       "grid_auto_columns": null,
       "grid_auto_flow": null,
       "grid_auto_rows": null,
       "grid_column": null,
       "grid_gap": null,
       "grid_row": null,
       "grid_template_areas": null,
       "grid_template_columns": null,
       "grid_template_rows": null,
       "height": null,
       "justify_content": null,
       "justify_items": null,
       "left": null,
       "margin": null,
       "max_height": null,
       "max_width": null,
       "min_height": null,
       "min_width": null,
       "object_fit": null,
       "object_position": null,
       "order": null,
       "overflow": null,
       "overflow_x": null,
       "overflow_y": null,
       "padding": null,
       "right": null,
       "top": null,
       "visibility": null,
       "width": null
      }
     },
     "098703d997b4443983b388b3e0bd7e92": {
      "model_module": "@jupyter-widgets/controls",
      "model_module_version": "1.5.0",
      "model_name": "DescriptionStyleModel",
      "state": {
       "_model_module": "@jupyter-widgets/controls",
       "_model_module_version": "1.5.0",
       "_model_name": "DescriptionStyleModel",
       "_view_count": null,
       "_view_module": "@jupyter-widgets/base",
       "_view_module_version": "1.2.0",
       "_view_name": "StyleView",
       "description_width": ""
      }
     },
     "0bded4a1e2c94c64bd8e76cf7ffc33e3": {
      "model_module": "@jupyter-widgets/base",
      "model_module_version": "1.2.0",
      "model_name": "LayoutModel",
      "state": {
       "_model_module": "@jupyter-widgets/base",
       "_model_module_version": "1.2.0",
       "_model_name": "LayoutModel",
       "_view_count": null,
       "_view_module": "@jupyter-widgets/base",
       "_view_module_version": "1.2.0",
       "_view_name": "LayoutView",
       "align_content": null,
       "align_items": null,
       "align_self": null,
       "border": null,
       "bottom": null,
       "display": null,
       "flex": null,
       "flex_flow": null,
       "grid_area": null,
       "grid_auto_columns": null,
       "grid_auto_flow": null,
       "grid_auto_rows": null,
       "grid_column": null,
       "grid_gap": null,
       "grid_row": null,
       "grid_template_areas": null,
       "grid_template_columns": null,
       "grid_template_rows": null,
       "height": null,
       "justify_content": null,
       "justify_items": null,
       "left": null,
       "margin": null,
       "max_height": null,
       "max_width": null,
       "min_height": null,
       "min_width": null,
       "object_fit": null,
       "object_position": null,
       "order": null,
       "overflow": null,
       "overflow_x": null,
       "overflow_y": null,
       "padding": null,
       "right": null,
       "top": null,
       "visibility": null,
       "width": null
      }
     },
     "15b377e93c7a4175ad548838d587e3a1": {
      "model_module": "@jupyter-widgets/controls",
      "model_module_version": "1.5.0",
      "model_name": "HBoxModel",
      "state": {
       "_dom_classes": [],
       "_model_module": "@jupyter-widgets/controls",
       "_model_module_version": "1.5.0",
       "_model_name": "HBoxModel",
       "_view_count": null,
       "_view_module": "@jupyter-widgets/controls",
       "_view_module_version": "1.5.0",
       "_view_name": "HBoxView",
       "box_style": "",
       "children": [
        "IPY_MODEL_530bba22c7564bc2a84919d7983dc15f",
        "IPY_MODEL_eb2c38a734864b33bde107bc7c4974ef",
        "IPY_MODEL_4d36ecd214134ab9adbd57675c898b51"
       ],
       "layout": "IPY_MODEL_6ce135ecbc384addb3a500d1ecff58d7"
      }
     },
     "1cb1d16cd7e4401185aba9eb6352ad83": {
      "model_module": "@jupyter-widgets/controls",
      "model_module_version": "1.5.0",
      "model_name": "HTMLModel",
      "state": {
       "_dom_classes": [],
       "_model_module": "@jupyter-widgets/controls",
       "_model_module_version": "1.5.0",
       "_model_name": "HTMLModel",
       "_view_count": null,
       "_view_module": "@jupyter-widgets/controls",
       "_view_module_version": "1.5.0",
       "_view_name": "HTMLView",
       "description": "",
       "description_tooltip": null,
       "layout": "IPY_MODEL_7e86053a54444adf90c89a1eab1d3d3b",
       "placeholder": "​",
       "style": "IPY_MODEL_392b1e3315764f6d80b2fd1e58805848",
       "value": " 167/167 [00:00&lt;00:00, 621.11it/s]"
      }
     },
     "1cd5d9cc31c94ff7830dca25e3bcb6bd": {
      "model_module": "@jupyter-widgets/base",
      "model_module_version": "1.2.0",
      "model_name": "LayoutModel",
      "state": {
       "_model_module": "@jupyter-widgets/base",
       "_model_module_version": "1.2.0",
       "_model_name": "LayoutModel",
       "_view_count": null,
       "_view_module": "@jupyter-widgets/base",
       "_view_module_version": "1.2.0",
       "_view_name": "LayoutView",
       "align_content": null,
       "align_items": null,
       "align_self": null,
       "border": null,
       "bottom": null,
       "display": null,
       "flex": null,
       "flex_flow": null,
       "grid_area": null,
       "grid_auto_columns": null,
       "grid_auto_flow": null,
       "grid_auto_rows": null,
       "grid_column": null,
       "grid_gap": null,
       "grid_row": null,
       "grid_template_areas": null,
       "grid_template_columns": null,
       "grid_template_rows": null,
       "height": null,
       "justify_content": null,
       "justify_items": null,
       "left": null,
       "margin": null,
       "max_height": null,
       "max_width": null,
       "min_height": null,
       "min_width": null,
       "object_fit": null,
       "object_position": null,
       "order": null,
       "overflow": null,
       "overflow_x": null,
       "overflow_y": null,
       "padding": null,
       "right": null,
       "top": null,
       "visibility": null,
       "width": null
      }
     },
     "22dcf8168e974b27bc846f40b2e62087": {
      "model_module": "@jupyter-widgets/controls",
      "model_module_version": "1.5.0",
      "model_name": "HBoxModel",
      "state": {
       "_dom_classes": [],
       "_model_module": "@jupyter-widgets/controls",
       "_model_module_version": "1.5.0",
       "_model_name": "HBoxModel",
       "_view_count": null,
       "_view_module": "@jupyter-widgets/controls",
       "_view_module_version": "1.5.0",
       "_view_name": "HBoxView",
       "box_style": "",
       "children": [
        "IPY_MODEL_fa5d1c11aff240a6b1f70de1d98d3247",
        "IPY_MODEL_29710600b8af462ca31b0ad5950ec751",
        "IPY_MODEL_56ec38c276704dd6abef8d3a4d11ecc3"
       ],
       "layout": "IPY_MODEL_4c0bc00688bc4d21ac3c68b30633e679"
      }
     },
     "293a452410424dc5b8dbd525fa8a5cf3": {
      "model_module": "@jupyter-widgets/controls",
      "model_module_version": "1.5.0",
      "model_name": "FloatProgressModel",
      "state": {
       "_dom_classes": [],
       "_model_module": "@jupyter-widgets/controls",
       "_model_module_version": "1.5.0",
       "_model_name": "FloatProgressModel",
       "_view_count": null,
       "_view_module": "@jupyter-widgets/controls",
       "_view_module_version": "1.5.0",
       "_view_name": "ProgressView",
       "bar_style": "success",
       "description": "",
       "description_tooltip": null,
       "layout": "IPY_MODEL_ed299908fec54ce1bd612dfbb492963e",
       "max": 84,
       "min": 0,
       "orientation": "horizontal",
       "style": "IPY_MODEL_ec5188f7548c4c2082b0c3831b9eba24",
       "value": 84
      }
     },
     "29710600b8af462ca31b0ad5950ec751": {
      "model_module": "@jupyter-widgets/controls",
      "model_module_version": "1.5.0",
      "model_name": "FloatProgressModel",
      "state": {
       "_dom_classes": [],
       "_model_module": "@jupyter-widgets/controls",
       "_model_module_version": "1.5.0",
       "_model_name": "FloatProgressModel",
       "_view_count": null,
       "_view_module": "@jupyter-widgets/controls",
       "_view_module_version": "1.5.0",
       "_view_name": "ProgressView",
       "bar_style": "success",
       "description": "",
       "description_tooltip": null,
       "layout": "IPY_MODEL_68571f42ecac4ca5a1eef085c8235816",
       "max": 167,
       "min": 0,
       "orientation": "horizontal",
       "style": "IPY_MODEL_6b807b638aca4e3f92ffe7e15a35bbe4",
       "value": 167
      }
     },
     "2d1b4cf62c2c48b09b68db8a53d23ea7": {
      "model_module": "@jupyter-widgets/base",
      "model_module_version": "1.2.0",
      "model_name": "LayoutModel",
      "state": {
       "_model_module": "@jupyter-widgets/base",
       "_model_module_version": "1.2.0",
       "_model_name": "LayoutModel",
       "_view_count": null,
       "_view_module": "@jupyter-widgets/base",
       "_view_module_version": "1.2.0",
       "_view_name": "LayoutView",
       "align_content": null,
       "align_items": null,
       "align_self": null,
       "border": null,
       "bottom": null,
       "display": null,
       "flex": null,
       "flex_flow": null,
       "grid_area": null,
       "grid_auto_columns": null,
       "grid_auto_flow": null,
       "grid_auto_rows": null,
       "grid_column": null,
       "grid_gap": null,
       "grid_row": null,
       "grid_template_areas": null,
       "grid_template_columns": null,
       "grid_template_rows": null,
       "height": null,
       "justify_content": null,
       "justify_items": null,
       "left": null,
       "margin": null,
       "max_height": null,
       "max_width": null,
       "min_height": null,
       "min_width": null,
       "object_fit": null,
       "object_position": null,
       "order": null,
       "overflow": null,
       "overflow_x": null,
       "overflow_y": null,
       "padding": null,
       "right": null,
       "top": null,
       "visibility": null,
       "width": null
      }
     },
     "2d3f5a0c3f68440aaf6599e4861eee38": {
      "model_module": "@jupyter-widgets/controls",
      "model_module_version": "1.5.0",
      "model_name": "DescriptionStyleModel",
      "state": {
       "_model_module": "@jupyter-widgets/controls",
       "_model_module_version": "1.5.0",
       "_model_name": "DescriptionStyleModel",
       "_view_count": null,
       "_view_module": "@jupyter-widgets/base",
       "_view_module_version": "1.2.0",
       "_view_name": "StyleView",
       "description_width": ""
      }
     },
     "373999ae7a6e4471bfefede808e0ec4b": {
      "model_module": "@jupyter-widgets/controls",
      "model_module_version": "1.5.0",
      "model_name": "HTMLModel",
      "state": {
       "_dom_classes": [],
       "_model_module": "@jupyter-widgets/controls",
       "_model_module_version": "1.5.0",
       "_model_name": "HTMLModel",
       "_view_count": null,
       "_view_module": "@jupyter-widgets/controls",
       "_view_module_version": "1.5.0",
       "_view_name": "HTMLView",
       "description": "",
       "description_tooltip": null,
       "layout": "IPY_MODEL_2d1b4cf62c2c48b09b68db8a53d23ea7",
       "placeholder": "​",
       "style": "IPY_MODEL_50bedde4d8a0450b98e2c30109c19d32",
       "value": " 167/167 [00:00&lt;00:00, 675.01it/s]"
      }
     },
     "392b1e3315764f6d80b2fd1e58805848": {
      "model_module": "@jupyter-widgets/controls",
      "model_module_version": "1.5.0",
      "model_name": "DescriptionStyleModel",
      "state": {
       "_model_module": "@jupyter-widgets/controls",
       "_model_module_version": "1.5.0",
       "_model_name": "DescriptionStyleModel",
       "_view_count": null,
       "_view_module": "@jupyter-widgets/base",
       "_view_module_version": "1.2.0",
       "_view_name": "StyleView",
       "description_width": ""
      }
     },
     "3941005a381b49fa9c34d81b12604fa2": {
      "model_module": "@jupyter-widgets/base",
      "model_module_version": "1.2.0",
      "model_name": "LayoutModel",
      "state": {
       "_model_module": "@jupyter-widgets/base",
       "_model_module_version": "1.2.0",
       "_model_name": "LayoutModel",
       "_view_count": null,
       "_view_module": "@jupyter-widgets/base",
       "_view_module_version": "1.2.0",
       "_view_name": "LayoutView",
       "align_content": null,
       "align_items": null,
       "align_self": null,
       "border": null,
       "bottom": null,
       "display": null,
       "flex": null,
       "flex_flow": null,
       "grid_area": null,
       "grid_auto_columns": null,
       "grid_auto_flow": null,
       "grid_auto_rows": null,
       "grid_column": null,
       "grid_gap": null,
       "grid_row": null,
       "grid_template_areas": null,
       "grid_template_columns": null,
       "grid_template_rows": null,
       "height": null,
       "justify_content": null,
       "justify_items": null,
       "left": null,
       "margin": null,
       "max_height": null,
       "max_width": null,
       "min_height": null,
       "min_width": null,
       "object_fit": null,
       "object_position": null,
       "order": null,
       "overflow": null,
       "overflow_x": null,
       "overflow_y": null,
       "padding": null,
       "right": null,
       "top": null,
       "visibility": null,
       "width": null
      }
     },
     "3b03fda46af9434fb7495db3bd3c2953": {
      "model_module": "@jupyter-widgets/controls",
      "model_module_version": "1.5.0",
      "model_name": "DescriptionStyleModel",
      "state": {
       "_model_module": "@jupyter-widgets/controls",
       "_model_module_version": "1.5.0",
       "_model_name": "DescriptionStyleModel",
       "_view_count": null,
       "_view_module": "@jupyter-widgets/base",
       "_view_module_version": "1.2.0",
       "_view_name": "StyleView",
       "description_width": ""
      }
     },
     "3f26af45ef9341b0b8f54c4258dff2ec": {
      "model_module": "@jupyter-widgets/base",
      "model_module_version": "1.2.0",
      "model_name": "LayoutModel",
      "state": {
       "_model_module": "@jupyter-widgets/base",
       "_model_module_version": "1.2.0",
       "_model_name": "LayoutModel",
       "_view_count": null,
       "_view_module": "@jupyter-widgets/base",
       "_view_module_version": "1.2.0",
       "_view_name": "LayoutView",
       "align_content": null,
       "align_items": null,
       "align_self": null,
       "border": null,
       "bottom": null,
       "display": null,
       "flex": null,
       "flex_flow": null,
       "grid_area": null,
       "grid_auto_columns": null,
       "grid_auto_flow": null,
       "grid_auto_rows": null,
       "grid_column": null,
       "grid_gap": null,
       "grid_row": null,
       "grid_template_areas": null,
       "grid_template_columns": null,
       "grid_template_rows": null,
       "height": null,
       "justify_content": null,
       "justify_items": null,
       "left": null,
       "margin": null,
       "max_height": null,
       "max_width": null,
       "min_height": null,
       "min_width": null,
       "object_fit": null,
       "object_position": null,
       "order": null,
       "overflow": null,
       "overflow_x": null,
       "overflow_y": null,
       "padding": null,
       "right": null,
       "top": null,
       "visibility": null,
       "width": null
      }
     },
     "3fa8d7841dcc4b228aa0a8fce5c425b3": {
      "model_module": "@jupyter-widgets/base",
      "model_module_version": "1.2.0",
      "model_name": "LayoutModel",
      "state": {
       "_model_module": "@jupyter-widgets/base",
       "_model_module_version": "1.2.0",
       "_model_name": "LayoutModel",
       "_view_count": null,
       "_view_module": "@jupyter-widgets/base",
       "_view_module_version": "1.2.0",
       "_view_name": "LayoutView",
       "align_content": null,
       "align_items": null,
       "align_self": null,
       "border": null,
       "bottom": null,
       "display": null,
       "flex": null,
       "flex_flow": null,
       "grid_area": null,
       "grid_auto_columns": null,
       "grid_auto_flow": null,
       "grid_auto_rows": null,
       "grid_column": null,
       "grid_gap": null,
       "grid_row": null,
       "grid_template_areas": null,
       "grid_template_columns": null,
       "grid_template_rows": null,
       "height": null,
       "justify_content": null,
       "justify_items": null,
       "left": null,
       "margin": null,
       "max_height": null,
       "max_width": null,
       "min_height": null,
       "min_width": null,
       "object_fit": null,
       "object_position": null,
       "order": null,
       "overflow": null,
       "overflow_x": null,
       "overflow_y": null,
       "padding": null,
       "right": null,
       "top": null,
       "visibility": null,
       "width": null
      }
     },
     "4a0fd4a74cce448c94d567a6c4858103": {
      "model_module": "@jupyter-widgets/base",
      "model_module_version": "1.2.0",
      "model_name": "LayoutModel",
      "state": {
       "_model_module": "@jupyter-widgets/base",
       "_model_module_version": "1.2.0",
       "_model_name": "LayoutModel",
       "_view_count": null,
       "_view_module": "@jupyter-widgets/base",
       "_view_module_version": "1.2.0",
       "_view_name": "LayoutView",
       "align_content": null,
       "align_items": null,
       "align_self": null,
       "border": null,
       "bottom": null,
       "display": null,
       "flex": null,
       "flex_flow": null,
       "grid_area": null,
       "grid_auto_columns": null,
       "grid_auto_flow": null,
       "grid_auto_rows": null,
       "grid_column": null,
       "grid_gap": null,
       "grid_row": null,
       "grid_template_areas": null,
       "grid_template_columns": null,
       "grid_template_rows": null,
       "height": null,
       "justify_content": null,
       "justify_items": null,
       "left": null,
       "margin": null,
       "max_height": null,
       "max_width": null,
       "min_height": null,
       "min_width": null,
       "object_fit": null,
       "object_position": null,
       "order": null,
       "overflow": null,
       "overflow_x": null,
       "overflow_y": null,
       "padding": null,
       "right": null,
       "top": null,
       "visibility": null,
       "width": null
      }
     },
     "4bcf3e4ec2de4f76b1fc7ed6aca161fa": {
      "model_module": "@jupyter-widgets/base",
      "model_module_version": "1.2.0",
      "model_name": "LayoutModel",
      "state": {
       "_model_module": "@jupyter-widgets/base",
       "_model_module_version": "1.2.0",
       "_model_name": "LayoutModel",
       "_view_count": null,
       "_view_module": "@jupyter-widgets/base",
       "_view_module_version": "1.2.0",
       "_view_name": "LayoutView",
       "align_content": null,
       "align_items": null,
       "align_self": null,
       "border": null,
       "bottom": null,
       "display": null,
       "flex": null,
       "flex_flow": null,
       "grid_area": null,
       "grid_auto_columns": null,
       "grid_auto_flow": null,
       "grid_auto_rows": null,
       "grid_column": null,
       "grid_gap": null,
       "grid_row": null,
       "grid_template_areas": null,
       "grid_template_columns": null,
       "grid_template_rows": null,
       "height": null,
       "justify_content": null,
       "justify_items": null,
       "left": null,
       "margin": null,
       "max_height": null,
       "max_width": null,
       "min_height": null,
       "min_width": null,
       "object_fit": null,
       "object_position": null,
       "order": null,
       "overflow": null,
       "overflow_x": null,
       "overflow_y": null,
       "padding": null,
       "right": null,
       "top": null,
       "visibility": null,
       "width": null
      }
     },
     "4c0bc00688bc4d21ac3c68b30633e679": {
      "model_module": "@jupyter-widgets/base",
      "model_module_version": "1.2.0",
      "model_name": "LayoutModel",
      "state": {
       "_model_module": "@jupyter-widgets/base",
       "_model_module_version": "1.2.0",
       "_model_name": "LayoutModel",
       "_view_count": null,
       "_view_module": "@jupyter-widgets/base",
       "_view_module_version": "1.2.0",
       "_view_name": "LayoutView",
       "align_content": null,
       "align_items": null,
       "align_self": null,
       "border": null,
       "bottom": null,
       "display": null,
       "flex": null,
       "flex_flow": null,
       "grid_area": null,
       "grid_auto_columns": null,
       "grid_auto_flow": null,
       "grid_auto_rows": null,
       "grid_column": null,
       "grid_gap": null,
       "grid_row": null,
       "grid_template_areas": null,
       "grid_template_columns": null,
       "grid_template_rows": null,
       "height": null,
       "justify_content": null,
       "justify_items": null,
       "left": null,
       "margin": null,
       "max_height": null,
       "max_width": null,
       "min_height": null,
       "min_width": null,
       "object_fit": null,
       "object_position": null,
       "order": null,
       "overflow": null,
       "overflow_x": null,
       "overflow_y": null,
       "padding": null,
       "right": null,
       "top": null,
       "visibility": null,
       "width": null
      }
     },
     "4d36ecd214134ab9adbd57675c898b51": {
      "model_module": "@jupyter-widgets/controls",
      "model_module_version": "1.5.0",
      "model_name": "HTMLModel",
      "state": {
       "_dom_classes": [],
       "_model_module": "@jupyter-widgets/controls",
       "_model_module_version": "1.5.0",
       "_model_name": "HTMLModel",
       "_view_count": null,
       "_view_module": "@jupyter-widgets/controls",
       "_view_module_version": "1.5.0",
       "_view_name": "HTMLView",
       "description": "",
       "description_tooltip": null,
       "layout": "IPY_MODEL_3941005a381b49fa9c34d81b12604fa2",
       "placeholder": "​",
       "style": "IPY_MODEL_098703d997b4443983b388b3e0bd7e92",
       "value": " 84/84 [00:00&lt;00:00, 736.55it/s]"
      }
     },
     "50bedde4d8a0450b98e2c30109c19d32": {
      "model_module": "@jupyter-widgets/controls",
      "model_module_version": "1.5.0",
      "model_name": "DescriptionStyleModel",
      "state": {
       "_model_module": "@jupyter-widgets/controls",
       "_model_module_version": "1.5.0",
       "_model_name": "DescriptionStyleModel",
       "_view_count": null,
       "_view_module": "@jupyter-widgets/base",
       "_view_module_version": "1.2.0",
       "_view_name": "StyleView",
       "description_width": ""
      }
     },
     "529cf1d1ef0348efa3cd7b092e06ed45": {
      "model_module": "@jupyter-widgets/controls",
      "model_module_version": "1.5.0",
      "model_name": "HTMLModel",
      "state": {
       "_dom_classes": [],
       "_model_module": "@jupyter-widgets/controls",
       "_model_module_version": "1.5.0",
       "_model_name": "HTMLModel",
       "_view_count": null,
       "_view_module": "@jupyter-widgets/controls",
       "_view_module_version": "1.5.0",
       "_view_name": "HTMLView",
       "description": "",
       "description_tooltip": null,
       "layout": "IPY_MODEL_79e66316de6741c283e2c75cc1a06513",
       "placeholder": "​",
       "style": "IPY_MODEL_58c9040757c64ff087097ee0485107e4",
       "value": " 84/84 [00:00&lt;00:00, 822.06it/s]"
      }
     },
     "530bba22c7564bc2a84919d7983dc15f": {
      "model_module": "@jupyter-widgets/controls",
      "model_module_version": "1.5.0",
      "model_name": "HTMLModel",
      "state": {
       "_dom_classes": [],
       "_model_module": "@jupyter-widgets/controls",
       "_model_module_version": "1.5.0",
       "_model_name": "HTMLModel",
       "_view_count": null,
       "_view_module": "@jupyter-widgets/controls",
       "_view_module_version": "1.5.0",
       "_view_name": "HTMLView",
       "description": "",
       "description_tooltip": null,
       "layout": "IPY_MODEL_fd39267b14a24abf97735f423c35351a",
       "placeholder": "​",
       "style": "IPY_MODEL_c6ebfa95a3794a63831d65497250f0be",
       "value": "test_batch (Avg. Loss 0.235, Accuracy 89.3): 100%"
      }
     },
     "53f1ce7acb7543149897c079178557fd": {
      "model_module": "@jupyter-widgets/controls",
      "model_module_version": "1.5.0",
      "model_name": "HTMLModel",
      "state": {
       "_dom_classes": [],
       "_model_module": "@jupyter-widgets/controls",
       "_model_module_version": "1.5.0",
       "_model_name": "HTMLModel",
       "_view_count": null,
       "_view_module": "@jupyter-widgets/controls",
       "_view_module_version": "1.5.0",
       "_view_name": "HTMLView",
       "description": "",
       "description_tooltip": null,
       "layout": "IPY_MODEL_3fa8d7841dcc4b228aa0a8fce5c425b3",
       "placeholder": "​",
       "style": "IPY_MODEL_2d3f5a0c3f68440aaf6599e4861eee38",
       "value": "train_batch (Avg. Loss 0.528, Accuracy 73.0): 100%"
      }
     },
     "56ec38c276704dd6abef8d3a4d11ecc3": {
      "model_module": "@jupyter-widgets/controls",
      "model_module_version": "1.5.0",
      "model_name": "HTMLModel",
      "state": {
       "_dom_classes": [],
       "_model_module": "@jupyter-widgets/controls",
       "_model_module_version": "1.5.0",
       "_model_name": "HTMLModel",
       "_view_count": null,
       "_view_module": "@jupyter-widgets/controls",
       "_view_module_version": "1.5.0",
       "_view_name": "HTMLView",
       "description": "",
       "description_tooltip": null,
       "layout": "IPY_MODEL_dbae43ed31354400a57e76571e7c6f1d",
       "placeholder": "​",
       "style": "IPY_MODEL_8117fa95ba2349fdb381bc566b3862cb",
       "value": " 167/167 [00:00&lt;00:00, 684.51it/s]"
      }
     },
     "58c9040757c64ff087097ee0485107e4": {
      "model_module": "@jupyter-widgets/controls",
      "model_module_version": "1.5.0",
      "model_name": "DescriptionStyleModel",
      "state": {
       "_model_module": "@jupyter-widgets/controls",
       "_model_module_version": "1.5.0",
       "_model_name": "DescriptionStyleModel",
       "_view_count": null,
       "_view_module": "@jupyter-widgets/base",
       "_view_module_version": "1.2.0",
       "_view_name": "StyleView",
       "description_width": ""
      }
     },
     "5db2b14b40e34d38b2a6aef66545c344": {
      "model_module": "@jupyter-widgets/controls",
      "model_module_version": "1.5.0",
      "model_name": "HBoxModel",
      "state": {
       "_dom_classes": [],
       "_model_module": "@jupyter-widgets/controls",
       "_model_module_version": "1.5.0",
       "_model_name": "HBoxModel",
       "_view_count": null,
       "_view_module": "@jupyter-widgets/controls",
       "_view_module_version": "1.5.0",
       "_view_name": "HBoxView",
       "box_style": "",
       "children": [
        "IPY_MODEL_a16702a4fa8842c2b53408d67c03c447",
        "IPY_MODEL_293a452410424dc5b8dbd525fa8a5cf3",
        "IPY_MODEL_529cf1d1ef0348efa3cd7b092e06ed45"
       ],
       "layout": "IPY_MODEL_7f8b0a88172c44f2ba260898c07e9ea2"
      }
     },
     "638da4030e3b4ea1b4cd6a322d6c94d2": {
      "model_module": "@jupyter-widgets/controls",
      "model_module_version": "1.5.0",
      "model_name": "FloatProgressModel",
      "state": {
       "_dom_classes": [],
       "_model_module": "@jupyter-widgets/controls",
       "_model_module_version": "1.5.0",
       "_model_name": "FloatProgressModel",
       "_view_count": null,
       "_view_module": "@jupyter-widgets/controls",
       "_view_module_version": "1.5.0",
       "_view_name": "ProgressView",
       "bar_style": "success",
       "description": "",
       "description_tooltip": null,
       "layout": "IPY_MODEL_ef353c2cdccf4b2aa365630949cf3225",
       "max": 167,
       "min": 0,
       "orientation": "horizontal",
       "style": "IPY_MODEL_b3b7accd16824165aab1ad9f79e8f938",
       "value": 167
      }
     },
     "68571f42ecac4ca5a1eef085c8235816": {
      "model_module": "@jupyter-widgets/base",
      "model_module_version": "1.2.0",
      "model_name": "LayoutModel",
      "state": {
       "_model_module": "@jupyter-widgets/base",
       "_model_module_version": "1.2.0",
       "_model_name": "LayoutModel",
       "_view_count": null,
       "_view_module": "@jupyter-widgets/base",
       "_view_module_version": "1.2.0",
       "_view_name": "LayoutView",
       "align_content": null,
       "align_items": null,
       "align_self": null,
       "border": null,
       "bottom": null,
       "display": null,
       "flex": null,
       "flex_flow": null,
       "grid_area": null,
       "grid_auto_columns": null,
       "grid_auto_flow": null,
       "grid_auto_rows": null,
       "grid_column": null,
       "grid_gap": null,
       "grid_row": null,
       "grid_template_areas": null,
       "grid_template_columns": null,
       "grid_template_rows": null,
       "height": null,
       "justify_content": null,
       "justify_items": null,
       "left": null,
       "margin": null,
       "max_height": null,
       "max_width": null,
       "min_height": null,
       "min_width": null,
       "object_fit": null,
       "object_position": null,
       "order": null,
       "overflow": null,
       "overflow_x": null,
       "overflow_y": null,
       "padding": null,
       "right": null,
       "top": null,
       "visibility": null,
       "width": null
      }
     },
     "6b807b638aca4e3f92ffe7e15a35bbe4": {
      "model_module": "@jupyter-widgets/controls",
      "model_module_version": "1.5.0",
      "model_name": "ProgressStyleModel",
      "state": {
       "_model_module": "@jupyter-widgets/controls",
       "_model_module_version": "1.5.0",
       "_model_name": "ProgressStyleModel",
       "_view_count": null,
       "_view_module": "@jupyter-widgets/base",
       "_view_module_version": "1.2.0",
       "_view_name": "StyleView",
       "bar_color": null,
       "description_width": ""
      }
     },
     "6bdb94e4266d445c961b5f02cc8c09db": {
      "model_module": "@jupyter-widgets/controls",
      "model_module_version": "1.5.0",
      "model_name": "ProgressStyleModel",
      "state": {
       "_model_module": "@jupyter-widgets/controls",
       "_model_module_version": "1.5.0",
       "_model_name": "ProgressStyleModel",
       "_view_count": null,
       "_view_module": "@jupyter-widgets/base",
       "_view_module_version": "1.2.0",
       "_view_name": "StyleView",
       "bar_color": null,
       "description_width": ""
      }
     },
     "6c64f0e8996347c7afe655c0f5c9e2c7": {
      "model_module": "@jupyter-widgets/base",
      "model_module_version": "1.2.0",
      "model_name": "LayoutModel",
      "state": {
       "_model_module": "@jupyter-widgets/base",
       "_model_module_version": "1.2.0",
       "_model_name": "LayoutModel",
       "_view_count": null,
       "_view_module": "@jupyter-widgets/base",
       "_view_module_version": "1.2.0",
       "_view_name": "LayoutView",
       "align_content": null,
       "align_items": null,
       "align_self": null,
       "border": null,
       "bottom": null,
       "display": null,
       "flex": null,
       "flex_flow": null,
       "grid_area": null,
       "grid_auto_columns": null,
       "grid_auto_flow": null,
       "grid_auto_rows": null,
       "grid_column": null,
       "grid_gap": null,
       "grid_row": null,
       "grid_template_areas": null,
       "grid_template_columns": null,
       "grid_template_rows": null,
       "height": null,
       "justify_content": null,
       "justify_items": null,
       "left": null,
       "margin": null,
       "max_height": null,
       "max_width": null,
       "min_height": null,
       "min_width": null,
       "object_fit": null,
       "object_position": null,
       "order": null,
       "overflow": null,
       "overflow_x": null,
       "overflow_y": null,
       "padding": null,
       "right": null,
       "top": null,
       "visibility": null,
       "width": null
      }
     },
     "6ce135ecbc384addb3a500d1ecff58d7": {
      "model_module": "@jupyter-widgets/base",
      "model_module_version": "1.2.0",
      "model_name": "LayoutModel",
      "state": {
       "_model_module": "@jupyter-widgets/base",
       "_model_module_version": "1.2.0",
       "_model_name": "LayoutModel",
       "_view_count": null,
       "_view_module": "@jupyter-widgets/base",
       "_view_module_version": "1.2.0",
       "_view_name": "LayoutView",
       "align_content": null,
       "align_items": null,
       "align_self": null,
       "border": null,
       "bottom": null,
       "display": null,
       "flex": null,
       "flex_flow": null,
       "grid_area": null,
       "grid_auto_columns": null,
       "grid_auto_flow": null,
       "grid_auto_rows": null,
       "grid_column": null,
       "grid_gap": null,
       "grid_row": null,
       "grid_template_areas": null,
       "grid_template_columns": null,
       "grid_template_rows": null,
       "height": null,
       "justify_content": null,
       "justify_items": null,
       "left": null,
       "margin": null,
       "max_height": null,
       "max_width": null,
       "min_height": null,
       "min_width": null,
       "object_fit": null,
       "object_position": null,
       "order": null,
       "overflow": null,
       "overflow_x": null,
       "overflow_y": null,
       "padding": null,
       "right": null,
       "top": null,
       "visibility": null,
       "width": null
      }
     },
     "6e2e6cdc716d4606b91fcaa710a45705": {
      "model_module": "@jupyter-widgets/controls",
      "model_module_version": "1.5.0",
      "model_name": "DescriptionStyleModel",
      "state": {
       "_model_module": "@jupyter-widgets/controls",
       "_model_module_version": "1.5.0",
       "_model_name": "DescriptionStyleModel",
       "_view_count": null,
       "_view_module": "@jupyter-widgets/base",
       "_view_module_version": "1.2.0",
       "_view_name": "StyleView",
       "description_width": ""
      }
     },
     "71d80d9a5ff8410488cca36265ace665": {
      "model_module": "@jupyter-widgets/controls",
      "model_module_version": "1.5.0",
      "model_name": "HBoxModel",
      "state": {
       "_dom_classes": [],
       "_model_module": "@jupyter-widgets/controls",
       "_model_module_version": "1.5.0",
       "_model_name": "HBoxModel",
       "_view_count": null,
       "_view_module": "@jupyter-widgets/controls",
       "_view_module_version": "1.5.0",
       "_view_name": "HBoxView",
       "box_style": "",
       "children": [
        "IPY_MODEL_e6ec54232b4149bca2e606b3fe9f6cb2",
        "IPY_MODEL_bf19f376cb9e48a3ad9f6e2b7716b492",
        "IPY_MODEL_ca226f48aff64810988d363b42165678"
       ],
       "layout": "IPY_MODEL_85e39ac7dd114c469145129fe58e8781"
      }
     },
     "79e66316de6741c283e2c75cc1a06513": {
      "model_module": "@jupyter-widgets/base",
      "model_module_version": "1.2.0",
      "model_name": "LayoutModel",
      "state": {
       "_model_module": "@jupyter-widgets/base",
       "_model_module_version": "1.2.0",
       "_model_name": "LayoutModel",
       "_view_count": null,
       "_view_module": "@jupyter-widgets/base",
       "_view_module_version": "1.2.0",
       "_view_name": "LayoutView",
       "align_content": null,
       "align_items": null,
       "align_self": null,
       "border": null,
       "bottom": null,
       "display": null,
       "flex": null,
       "flex_flow": null,
       "grid_area": null,
       "grid_auto_columns": null,
       "grid_auto_flow": null,
       "grid_auto_rows": null,
       "grid_column": null,
       "grid_gap": null,
       "grid_row": null,
       "grid_template_areas": null,
       "grid_template_columns": null,
       "grid_template_rows": null,
       "height": null,
       "justify_content": null,
       "justify_items": null,
       "left": null,
       "margin": null,
       "max_height": null,
       "max_width": null,
       "min_height": null,
       "min_width": null,
       "object_fit": null,
       "object_position": null,
       "order": null,
       "overflow": null,
       "overflow_x": null,
       "overflow_y": null,
       "padding": null,
       "right": null,
       "top": null,
       "visibility": null,
       "width": null
      }
     },
     "7a1e37cfcc8b419cbac6181fb200e057": {
      "model_module": "@jupyter-widgets/controls",
      "model_module_version": "1.5.0",
      "model_name": "ProgressStyleModel",
      "state": {
       "_model_module": "@jupyter-widgets/controls",
       "_model_module_version": "1.5.0",
       "_model_name": "ProgressStyleModel",
       "_view_count": null,
       "_view_module": "@jupyter-widgets/base",
       "_view_module_version": "1.2.0",
       "_view_name": "StyleView",
       "bar_color": null,
       "description_width": ""
      }
     },
     "7c068251c1c04610bf898c4a8faba0d5": {
      "model_module": "@jupyter-widgets/base",
      "model_module_version": "1.2.0",
      "model_name": "LayoutModel",
      "state": {
       "_model_module": "@jupyter-widgets/base",
       "_model_module_version": "1.2.0",
       "_model_name": "LayoutModel",
       "_view_count": null,
       "_view_module": "@jupyter-widgets/base",
       "_view_module_version": "1.2.0",
       "_view_name": "LayoutView",
       "align_content": null,
       "align_items": null,
       "align_self": null,
       "border": null,
       "bottom": null,
       "display": null,
       "flex": null,
       "flex_flow": null,
       "grid_area": null,
       "grid_auto_columns": null,
       "grid_auto_flow": null,
       "grid_auto_rows": null,
       "grid_column": null,
       "grid_gap": null,
       "grid_row": null,
       "grid_template_areas": null,
       "grid_template_columns": null,
       "grid_template_rows": null,
       "height": null,
       "justify_content": null,
       "justify_items": null,
       "left": null,
       "margin": null,
       "max_height": null,
       "max_width": null,
       "min_height": null,
       "min_width": null,
       "object_fit": null,
       "object_position": null,
       "order": null,
       "overflow": null,
       "overflow_x": null,
       "overflow_y": null,
       "padding": null,
       "right": null,
       "top": null,
       "visibility": null,
       "width": null
      }
     },
     "7e86053a54444adf90c89a1eab1d3d3b": {
      "model_module": "@jupyter-widgets/base",
      "model_module_version": "1.2.0",
      "model_name": "LayoutModel",
      "state": {
       "_model_module": "@jupyter-widgets/base",
       "_model_module_version": "1.2.0",
       "_model_name": "LayoutModel",
       "_view_count": null,
       "_view_module": "@jupyter-widgets/base",
       "_view_module_version": "1.2.0",
       "_view_name": "LayoutView",
       "align_content": null,
       "align_items": null,
       "align_self": null,
       "border": null,
       "bottom": null,
       "display": null,
       "flex": null,
       "flex_flow": null,
       "grid_area": null,
       "grid_auto_columns": null,
       "grid_auto_flow": null,
       "grid_auto_rows": null,
       "grid_column": null,
       "grid_gap": null,
       "grid_row": null,
       "grid_template_areas": null,
       "grid_template_columns": null,
       "grid_template_rows": null,
       "height": null,
       "justify_content": null,
       "justify_items": null,
       "left": null,
       "margin": null,
       "max_height": null,
       "max_width": null,
       "min_height": null,
       "min_width": null,
       "object_fit": null,
       "object_position": null,
       "order": null,
       "overflow": null,
       "overflow_x": null,
       "overflow_y": null,
       "padding": null,
       "right": null,
       "top": null,
       "visibility": null,
       "width": null
      }
     },
     "7f8b0a88172c44f2ba260898c07e9ea2": {
      "model_module": "@jupyter-widgets/base",
      "model_module_version": "1.2.0",
      "model_name": "LayoutModel",
      "state": {
       "_model_module": "@jupyter-widgets/base",
       "_model_module_version": "1.2.0",
       "_model_name": "LayoutModel",
       "_view_count": null,
       "_view_module": "@jupyter-widgets/base",
       "_view_module_version": "1.2.0",
       "_view_name": "LayoutView",
       "align_content": null,
       "align_items": null,
       "align_self": null,
       "border": null,
       "bottom": null,
       "display": null,
       "flex": null,
       "flex_flow": null,
       "grid_area": null,
       "grid_auto_columns": null,
       "grid_auto_flow": null,
       "grid_auto_rows": null,
       "grid_column": null,
       "grid_gap": null,
       "grid_row": null,
       "grid_template_areas": null,
       "grid_template_columns": null,
       "grid_template_rows": null,
       "height": null,
       "justify_content": null,
       "justify_items": null,
       "left": null,
       "margin": null,
       "max_height": null,
       "max_width": null,
       "min_height": null,
       "min_width": null,
       "object_fit": null,
       "object_position": null,
       "order": null,
       "overflow": null,
       "overflow_x": null,
       "overflow_y": null,
       "padding": null,
       "right": null,
       "top": null,
       "visibility": null,
       "width": null
      }
     },
     "8117fa95ba2349fdb381bc566b3862cb": {
      "model_module": "@jupyter-widgets/controls",
      "model_module_version": "1.5.0",
      "model_name": "DescriptionStyleModel",
      "state": {
       "_model_module": "@jupyter-widgets/controls",
       "_model_module_version": "1.5.0",
       "_model_name": "DescriptionStyleModel",
       "_view_count": null,
       "_view_module": "@jupyter-widgets/base",
       "_view_module_version": "1.2.0",
       "_view_name": "StyleView",
       "description_width": ""
      }
     },
     "85e39ac7dd114c469145129fe58e8781": {
      "model_module": "@jupyter-widgets/base",
      "model_module_version": "1.2.0",
      "model_name": "LayoutModel",
      "state": {
       "_model_module": "@jupyter-widgets/base",
       "_model_module_version": "1.2.0",
       "_model_name": "LayoutModel",
       "_view_count": null,
       "_view_module": "@jupyter-widgets/base",
       "_view_module_version": "1.2.0",
       "_view_name": "LayoutView",
       "align_content": null,
       "align_items": null,
       "align_self": null,
       "border": null,
       "bottom": null,
       "display": null,
       "flex": null,
       "flex_flow": null,
       "grid_area": null,
       "grid_auto_columns": null,
       "grid_auto_flow": null,
       "grid_auto_rows": null,
       "grid_column": null,
       "grid_gap": null,
       "grid_row": null,
       "grid_template_areas": null,
       "grid_template_columns": null,
       "grid_template_rows": null,
       "height": null,
       "justify_content": null,
       "justify_items": null,
       "left": null,
       "margin": null,
       "max_height": null,
       "max_width": null,
       "min_height": null,
       "min_width": null,
       "object_fit": null,
       "object_position": null,
       "order": null,
       "overflow": null,
       "overflow_x": null,
       "overflow_y": null,
       "padding": null,
       "right": null,
       "top": null,
       "visibility": null,
       "width": null
      }
     },
     "895e5864b8294829bdff2e8895f3473d": {
      "model_module": "@jupyter-widgets/controls",
      "model_module_version": "1.5.0",
      "model_name": "HBoxModel",
      "state": {
       "_dom_classes": [],
       "_model_module": "@jupyter-widgets/controls",
       "_model_module_version": "1.5.0",
       "_model_name": "HBoxModel",
       "_view_count": null,
       "_view_module": "@jupyter-widgets/controls",
       "_view_module_version": "1.5.0",
       "_view_name": "HBoxView",
       "box_style": "",
       "children": [
        "IPY_MODEL_94409d2f63c342908d457b4e158f332b",
        "IPY_MODEL_638da4030e3b4ea1b4cd6a322d6c94d2",
        "IPY_MODEL_373999ae7a6e4471bfefede808e0ec4b"
       ],
       "layout": "IPY_MODEL_efe96e1e0cd2453ca416634c3aeae611"
      }
     },
     "94409d2f63c342908d457b4e158f332b": {
      "model_module": "@jupyter-widgets/controls",
      "model_module_version": "1.5.0",
      "model_name": "HTMLModel",
      "state": {
       "_dom_classes": [],
       "_model_module": "@jupyter-widgets/controls",
       "_model_module_version": "1.5.0",
       "_model_name": "HTMLModel",
       "_view_count": null,
       "_view_module": "@jupyter-widgets/controls",
       "_view_module_version": "1.5.0",
       "_view_name": "HTMLView",
       "description": "",
       "description_tooltip": null,
       "layout": "IPY_MODEL_4bcf3e4ec2de4f76b1fc7ed6aca161fa",
       "placeholder": "​",
       "style": "IPY_MODEL_6e2e6cdc716d4606b91fcaa710a45705",
       "value": "train_batch (Avg. Loss 0.188, Accuracy 92.6): 100%"
      }
     },
     "9abd4ce9d46f4aef914ee89a83eac224": {
      "model_module": "@jupyter-widgets/controls",
      "model_module_version": "1.5.0",
      "model_name": "DescriptionStyleModel",
      "state": {
       "_model_module": "@jupyter-widgets/controls",
       "_model_module_version": "1.5.0",
       "_model_name": "DescriptionStyleModel",
       "_view_count": null,
       "_view_module": "@jupyter-widgets/base",
       "_view_module_version": "1.2.0",
       "_view_name": "StyleView",
       "description_width": ""
      }
     },
     "9f8827f414a14fd09b99db5b68f7e046": {
      "model_module": "@jupyter-widgets/controls",
      "model_module_version": "1.5.0",
      "model_name": "DescriptionStyleModel",
      "state": {
       "_model_module": "@jupyter-widgets/controls",
       "_model_module_version": "1.5.0",
       "_model_name": "DescriptionStyleModel",
       "_view_count": null,
       "_view_module": "@jupyter-widgets/base",
       "_view_module_version": "1.2.0",
       "_view_name": "StyleView",
       "description_width": ""
      }
     },
     "a16702a4fa8842c2b53408d67c03c447": {
      "model_module": "@jupyter-widgets/controls",
      "model_module_version": "1.5.0",
      "model_name": "HTMLModel",
      "state": {
       "_dom_classes": [],
       "_model_module": "@jupyter-widgets/controls",
       "_model_module_version": "1.5.0",
       "_model_name": "HTMLModel",
       "_view_count": null,
       "_view_module": "@jupyter-widgets/controls",
       "_view_module_version": "1.5.0",
       "_view_name": "HTMLView",
       "description": "",
       "description_tooltip": null,
       "layout": "IPY_MODEL_7c068251c1c04610bf898c4a8faba0d5",
       "placeholder": "​",
       "style": "IPY_MODEL_9abd4ce9d46f4aef914ee89a83eac224",
       "value": "test_batch (Avg. Loss 0.465, Accuracy 77.9): 100%"
      }
     },
     "a2c083227fc7432eb02ebd04890ba623": {
      "model_module": "@jupyter-widgets/controls",
      "model_module_version": "1.5.0",
      "model_name": "HBoxModel",
      "state": {
       "_dom_classes": [],
       "_model_module": "@jupyter-widgets/controls",
       "_model_module_version": "1.5.0",
       "_model_name": "HBoxModel",
       "_view_count": null,
       "_view_module": "@jupyter-widgets/controls",
       "_view_module_version": "1.5.0",
       "_view_name": "HBoxView",
       "box_style": "",
       "children": [
        "IPY_MODEL_dab4b3b3073b4af4887d83798caf5a8d",
        "IPY_MODEL_e0be5a81986b4d14a4db29de12fd2dc1",
        "IPY_MODEL_b8d39f6a4d184aaa8116c74498434b91"
       ],
       "layout": "IPY_MODEL_be4b5f707a174d599255205ef2c971c2"
      }
     },
     "b3b7accd16824165aab1ad9f79e8f938": {
      "model_module": "@jupyter-widgets/controls",
      "model_module_version": "1.5.0",
      "model_name": "ProgressStyleModel",
      "state": {
       "_model_module": "@jupyter-widgets/controls",
       "_model_module_version": "1.5.0",
       "_model_name": "ProgressStyleModel",
       "_view_count": null,
       "_view_module": "@jupyter-widgets/base",
       "_view_module_version": "1.2.0",
       "_view_name": "StyleView",
       "bar_color": null,
       "description_width": ""
      }
     },
     "b8d39f6a4d184aaa8116c74498434b91": {
      "model_module": "@jupyter-widgets/controls",
      "model_module_version": "1.5.0",
      "model_name": "HTMLModel",
      "state": {
       "_dom_classes": [],
       "_model_module": "@jupyter-widgets/controls",
       "_model_module_version": "1.5.0",
       "_model_name": "HTMLModel",
       "_view_count": null,
       "_view_module": "@jupyter-widgets/controls",
       "_view_module_version": "1.5.0",
       "_view_name": "HTMLView",
       "description": "",
       "description_tooltip": null,
       "layout": "IPY_MODEL_e4cee9e696cf4bc28279b292c3eab321",
       "placeholder": "​",
       "style": "IPY_MODEL_dc7adee2706a4130a12fdc255df522c8",
       "value": " 12/12 [00:21&lt;00:00,  3.38s/it]"
      }
     },
     "bb0c842ad81e4feda349e57c603fde49": {
      "model_module": "@jupyter-widgets/controls",
      "model_module_version": "1.5.0",
      "model_name": "HBoxModel",
      "state": {
       "_dom_classes": [],
       "_model_module": "@jupyter-widgets/controls",
       "_model_module_version": "1.5.0",
       "_model_name": "HBoxModel",
       "_view_count": null,
       "_view_module": "@jupyter-widgets/controls",
       "_view_module_version": "1.5.0",
       "_view_name": "HBoxView",
       "box_style": "",
       "children": [
        "IPY_MODEL_53f1ce7acb7543149897c079178557fd",
        "IPY_MODEL_dd8995de81b84875a63112ecef28839e",
        "IPY_MODEL_1cb1d16cd7e4401185aba9eb6352ad83"
       ],
       "layout": "IPY_MODEL_bb3ffbe1f1ac4c639fefb239501e2c59"
      }
     },
     "bb3ffbe1f1ac4c639fefb239501e2c59": {
      "model_module": "@jupyter-widgets/base",
      "model_module_version": "1.2.0",
      "model_name": "LayoutModel",
      "state": {
       "_model_module": "@jupyter-widgets/base",
       "_model_module_version": "1.2.0",
       "_model_name": "LayoutModel",
       "_view_count": null,
       "_view_module": "@jupyter-widgets/base",
       "_view_module_version": "1.2.0",
       "_view_name": "LayoutView",
       "align_content": null,
       "align_items": null,
       "align_self": null,
       "border": null,
       "bottom": null,
       "display": null,
       "flex": null,
       "flex_flow": null,
       "grid_area": null,
       "grid_auto_columns": null,
       "grid_auto_flow": null,
       "grid_auto_rows": null,
       "grid_column": null,
       "grid_gap": null,
       "grid_row": null,
       "grid_template_areas": null,
       "grid_template_columns": null,
       "grid_template_rows": null,
       "height": null,
       "justify_content": null,
       "justify_items": null,
       "left": null,
       "margin": null,
       "max_height": null,
       "max_width": null,
       "min_height": null,
       "min_width": null,
       "object_fit": null,
       "object_position": null,
       "order": null,
       "overflow": null,
       "overflow_x": null,
       "overflow_y": null,
       "padding": null,
       "right": null,
       "top": null,
       "visibility": null,
       "width": null
      }
     },
     "be4b5f707a174d599255205ef2c971c2": {
      "model_module": "@jupyter-widgets/base",
      "model_module_version": "1.2.0",
      "model_name": "LayoutModel",
      "state": {
       "_model_module": "@jupyter-widgets/base",
       "_model_module_version": "1.2.0",
       "_model_name": "LayoutModel",
       "_view_count": null,
       "_view_module": "@jupyter-widgets/base",
       "_view_module_version": "1.2.0",
       "_view_name": "LayoutView",
       "align_content": null,
       "align_items": null,
       "align_self": null,
       "border": null,
       "bottom": null,
       "display": null,
       "flex": null,
       "flex_flow": null,
       "grid_area": null,
       "grid_auto_columns": null,
       "grid_auto_flow": null,
       "grid_auto_rows": null,
       "grid_column": null,
       "grid_gap": null,
       "grid_row": null,
       "grid_template_areas": null,
       "grid_template_columns": null,
       "grid_template_rows": null,
       "height": null,
       "justify_content": null,
       "justify_items": null,
       "left": null,
       "margin": null,
       "max_height": null,
       "max_width": null,
       "min_height": null,
       "min_width": null,
       "object_fit": null,
       "object_position": null,
       "order": null,
       "overflow": null,
       "overflow_x": null,
       "overflow_y": null,
       "padding": null,
       "right": null,
       "top": null,
       "visibility": null,
       "width": null
      }
     },
     "bf19f376cb9e48a3ad9f6e2b7716b492": {
      "model_module": "@jupyter-widgets/controls",
      "model_module_version": "1.5.0",
      "model_name": "FloatProgressModel",
      "state": {
       "_dom_classes": [],
       "_model_module": "@jupyter-widgets/controls",
       "_model_module_version": "1.5.0",
       "_model_name": "FloatProgressModel",
       "_view_count": null,
       "_view_module": "@jupyter-widgets/controls",
       "_view_module_version": "1.5.0",
       "_view_name": "ProgressView",
       "bar_style": "success",
       "description": "",
       "description_tooltip": null,
       "layout": "IPY_MODEL_4a0fd4a74cce448c94d567a6c4858103",
       "max": 84,
       "min": 0,
       "orientation": "horizontal",
       "style": "IPY_MODEL_c18c7618fc2344c1909fa9034fa8c49c",
       "value": 84
      }
     },
     "c18c7618fc2344c1909fa9034fa8c49c": {
      "model_module": "@jupyter-widgets/controls",
      "model_module_version": "1.5.0",
      "model_name": "ProgressStyleModel",
      "state": {
       "_model_module": "@jupyter-widgets/controls",
       "_model_module_version": "1.5.0",
       "_model_name": "ProgressStyleModel",
       "_view_count": null,
       "_view_module": "@jupyter-widgets/base",
       "_view_module_version": "1.2.0",
       "_view_name": "StyleView",
       "bar_color": null,
       "description_width": ""
      }
     },
     "c4d3f1cb380d4198ae65d07ef500e5c7": {
      "model_module": "@jupyter-widgets/controls",
      "model_module_version": "1.5.0",
      "model_name": "ProgressStyleModel",
      "state": {
       "_model_module": "@jupyter-widgets/controls",
       "_model_module_version": "1.5.0",
       "_model_name": "ProgressStyleModel",
       "_view_count": null,
       "_view_module": "@jupyter-widgets/base",
       "_view_module_version": "1.2.0",
       "_view_name": "StyleView",
       "bar_color": null,
       "description_width": ""
      }
     },
     "c6ebfa95a3794a63831d65497250f0be": {
      "model_module": "@jupyter-widgets/controls",
      "model_module_version": "1.5.0",
      "model_name": "DescriptionStyleModel",
      "state": {
       "_model_module": "@jupyter-widgets/controls",
       "_model_module_version": "1.5.0",
       "_model_name": "DescriptionStyleModel",
       "_view_count": null,
       "_view_module": "@jupyter-widgets/base",
       "_view_module_version": "1.2.0",
       "_view_name": "StyleView",
       "description_width": ""
      }
     },
     "ca226f48aff64810988d363b42165678": {
      "model_module": "@jupyter-widgets/controls",
      "model_module_version": "1.5.0",
      "model_name": "HTMLModel",
      "state": {
       "_dom_classes": [],
       "_model_module": "@jupyter-widgets/controls",
       "_model_module_version": "1.5.0",
       "_model_name": "HTMLModel",
       "_view_count": null,
       "_view_module": "@jupyter-widgets/controls",
       "_view_module_version": "1.5.0",
       "_view_name": "HTMLView",
       "description": "",
       "description_tooltip": null,
       "layout": "IPY_MODEL_3f26af45ef9341b0b8f54c4258dff2ec",
       "placeholder": "​",
       "style": "IPY_MODEL_9f8827f414a14fd09b99db5b68f7e046",
       "value": " 84/84 [00:00&lt;00:00, 835.06it/s]"
      }
     },
     "dab4b3b3073b4af4887d83798caf5a8d": {
      "model_module": "@jupyter-widgets/controls",
      "model_module_version": "1.5.0",
      "model_name": "HTMLModel",
      "state": {
       "_dom_classes": [],
       "_model_module": "@jupyter-widgets/controls",
       "_model_module_version": "1.5.0",
       "_model_name": "HTMLModel",
       "_view_count": null,
       "_view_module": "@jupyter-widgets/controls",
       "_view_module_version": "1.5.0",
       "_view_name": "HTMLView",
       "description": "",
       "description_tooltip": null,
       "layout": "IPY_MODEL_f3e7afe6fbb546abb520bad9db0c6b4b",
       "placeholder": "​",
       "style": "IPY_MODEL_fff3d2bfd56a4122b44716e77d79f5de",
       "value": "100%"
      }
     },
     "dbae43ed31354400a57e76571e7c6f1d": {
      "model_module": "@jupyter-widgets/base",
      "model_module_version": "1.2.0",
      "model_name": "LayoutModel",
      "state": {
       "_model_module": "@jupyter-widgets/base",
       "_model_module_version": "1.2.0",
       "_model_name": "LayoutModel",
       "_view_count": null,
       "_view_module": "@jupyter-widgets/base",
       "_view_module_version": "1.2.0",
       "_view_name": "LayoutView",
       "align_content": null,
       "align_items": null,
       "align_self": null,
       "border": null,
       "bottom": null,
       "display": null,
       "flex": null,
       "flex_flow": null,
       "grid_area": null,
       "grid_auto_columns": null,
       "grid_auto_flow": null,
       "grid_auto_rows": null,
       "grid_column": null,
       "grid_gap": null,
       "grid_row": null,
       "grid_template_areas": null,
       "grid_template_columns": null,
       "grid_template_rows": null,
       "height": null,
       "justify_content": null,
       "justify_items": null,
       "left": null,
       "margin": null,
       "max_height": null,
       "max_width": null,
       "min_height": null,
       "min_width": null,
       "object_fit": null,
       "object_position": null,
       "order": null,
       "overflow": null,
       "overflow_x": null,
       "overflow_y": null,
       "padding": null,
       "right": null,
       "top": null,
       "visibility": null,
       "width": null
      }
     },
     "dc7adee2706a4130a12fdc255df522c8": {
      "model_module": "@jupyter-widgets/controls",
      "model_module_version": "1.5.0",
      "model_name": "DescriptionStyleModel",
      "state": {
       "_model_module": "@jupyter-widgets/controls",
       "_model_module_version": "1.5.0",
       "_model_name": "DescriptionStyleModel",
       "_view_count": null,
       "_view_module": "@jupyter-widgets/base",
       "_view_module_version": "1.2.0",
       "_view_name": "StyleView",
       "description_width": ""
      }
     },
     "dd8995de81b84875a63112ecef28839e": {
      "model_module": "@jupyter-widgets/controls",
      "model_module_version": "1.5.0",
      "model_name": "FloatProgressModel",
      "state": {
       "_dom_classes": [],
       "_model_module": "@jupyter-widgets/controls",
       "_model_module_version": "1.5.0",
       "_model_name": "FloatProgressModel",
       "_view_count": null,
       "_view_module": "@jupyter-widgets/controls",
       "_view_module_version": "1.5.0",
       "_view_name": "ProgressView",
       "bar_style": "success",
       "description": "",
       "description_tooltip": null,
       "layout": "IPY_MODEL_0bded4a1e2c94c64bd8e76cf7ffc33e3",
       "max": 167,
       "min": 0,
       "orientation": "horizontal",
       "style": "IPY_MODEL_6bdb94e4266d445c961b5f02cc8c09db",
       "value": 167
      }
     },
     "e0be5a81986b4d14a4db29de12fd2dc1": {
      "model_module": "@jupyter-widgets/controls",
      "model_module_version": "1.5.0",
      "model_name": "FloatProgressModel",
      "state": {
       "_dom_classes": [],
       "_model_module": "@jupyter-widgets/controls",
       "_model_module_version": "1.5.0",
       "_model_name": "FloatProgressModel",
       "_view_count": null,
       "_view_module": "@jupyter-widgets/controls",
       "_view_module_version": "1.5.0",
       "_view_name": "ProgressView",
       "bar_style": "success",
       "description": "",
       "description_tooltip": null,
       "layout": "IPY_MODEL_1cd5d9cc31c94ff7830dca25e3bcb6bd",
       "max": 12,
       "min": 0,
       "orientation": "horizontal",
       "style": "IPY_MODEL_7a1e37cfcc8b419cbac6181fb200e057",
       "value": 12
      }
     },
     "e4cee9e696cf4bc28279b292c3eab321": {
      "model_module": "@jupyter-widgets/base",
      "model_module_version": "1.2.0",
      "model_name": "LayoutModel",
      "state": {
       "_model_module": "@jupyter-widgets/base",
       "_model_module_version": "1.2.0",
       "_model_name": "LayoutModel",
       "_view_count": null,
       "_view_module": "@jupyter-widgets/base",
       "_view_module_version": "1.2.0",
       "_view_name": "LayoutView",
       "align_content": null,
       "align_items": null,
       "align_self": null,
       "border": null,
       "bottom": null,
       "display": null,
       "flex": null,
       "flex_flow": null,
       "grid_area": null,
       "grid_auto_columns": null,
       "grid_auto_flow": null,
       "grid_auto_rows": null,
       "grid_column": null,
       "grid_gap": null,
       "grid_row": null,
       "grid_template_areas": null,
       "grid_template_columns": null,
       "grid_template_rows": null,
       "height": null,
       "justify_content": null,
       "justify_items": null,
       "left": null,
       "margin": null,
       "max_height": null,
       "max_width": null,
       "min_height": null,
       "min_width": null,
       "object_fit": null,
       "object_position": null,
       "order": null,
       "overflow": null,
       "overflow_x": null,
       "overflow_y": null,
       "padding": null,
       "right": null,
       "top": null,
       "visibility": null,
       "width": null
      }
     },
     "e6ec54232b4149bca2e606b3fe9f6cb2": {
      "model_module": "@jupyter-widgets/controls",
      "model_module_version": "1.5.0",
      "model_name": "HTMLModel",
      "state": {
       "_dom_classes": [],
       "_model_module": "@jupyter-widgets/controls",
       "_model_module_version": "1.5.0",
       "_model_name": "HTMLModel",
       "_view_count": null,
       "_view_module": "@jupyter-widgets/controls",
       "_view_module_version": "1.5.0",
       "_view_name": "HTMLView",
       "description": "",
       "description_tooltip": null,
       "layout": "IPY_MODEL_02a3d246315140e4bf206f110104cf0b",
       "placeholder": "​",
       "style": "IPY_MODEL_e71cc4a636fd4de9860b9422e9a8c11e",
       "value": "test_batch (Avg. Loss 0.215, Accuracy 91.2): 100%"
      }
     },
     "e71cc4a636fd4de9860b9422e9a8c11e": {
      "model_module": "@jupyter-widgets/controls",
      "model_module_version": "1.5.0",
      "model_name": "DescriptionStyleModel",
      "state": {
       "_model_module": "@jupyter-widgets/controls",
       "_model_module_version": "1.5.0",
       "_model_name": "DescriptionStyleModel",
       "_view_count": null,
       "_view_module": "@jupyter-widgets/base",
       "_view_module_version": "1.2.0",
       "_view_name": "StyleView",
       "description_width": ""
      }
     },
     "eb2c38a734864b33bde107bc7c4974ef": {
      "model_module": "@jupyter-widgets/controls",
      "model_module_version": "1.5.0",
      "model_name": "FloatProgressModel",
      "state": {
       "_dom_classes": [],
       "_model_module": "@jupyter-widgets/controls",
       "_model_module_version": "1.5.0",
       "_model_name": "FloatProgressModel",
       "_view_count": null,
       "_view_module": "@jupyter-widgets/controls",
       "_view_module_version": "1.5.0",
       "_view_name": "ProgressView",
       "bar_style": "success",
       "description": "",
       "description_tooltip": null,
       "layout": "IPY_MODEL_062bb7c157c742b9a70f415698a375a1",
       "max": 84,
       "min": 0,
       "orientation": "horizontal",
       "style": "IPY_MODEL_c4d3f1cb380d4198ae65d07ef500e5c7",
       "value": 84
      }
     },
     "ec5188f7548c4c2082b0c3831b9eba24": {
      "model_module": "@jupyter-widgets/controls",
      "model_module_version": "1.5.0",
      "model_name": "ProgressStyleModel",
      "state": {
       "_model_module": "@jupyter-widgets/controls",
       "_model_module_version": "1.5.0",
       "_model_name": "ProgressStyleModel",
       "_view_count": null,
       "_view_module": "@jupyter-widgets/base",
       "_view_module_version": "1.2.0",
       "_view_name": "StyleView",
       "bar_color": null,
       "description_width": ""
      }
     },
     "ed299908fec54ce1bd612dfbb492963e": {
      "model_module": "@jupyter-widgets/base",
      "model_module_version": "1.2.0",
      "model_name": "LayoutModel",
      "state": {
       "_model_module": "@jupyter-widgets/base",
       "_model_module_version": "1.2.0",
       "_model_name": "LayoutModel",
       "_view_count": null,
       "_view_module": "@jupyter-widgets/base",
       "_view_module_version": "1.2.0",
       "_view_name": "LayoutView",
       "align_content": null,
       "align_items": null,
       "align_self": null,
       "border": null,
       "bottom": null,
       "display": null,
       "flex": null,
       "flex_flow": null,
       "grid_area": null,
       "grid_auto_columns": null,
       "grid_auto_flow": null,
       "grid_auto_rows": null,
       "grid_column": null,
       "grid_gap": null,
       "grid_row": null,
       "grid_template_areas": null,
       "grid_template_columns": null,
       "grid_template_rows": null,
       "height": null,
       "justify_content": null,
       "justify_items": null,
       "left": null,
       "margin": null,
       "max_height": null,
       "max_width": null,
       "min_height": null,
       "min_width": null,
       "object_fit": null,
       "object_position": null,
       "order": null,
       "overflow": null,
       "overflow_x": null,
       "overflow_y": null,
       "padding": null,
       "right": null,
       "top": null,
       "visibility": null,
       "width": null
      }
     },
     "ef353c2cdccf4b2aa365630949cf3225": {
      "model_module": "@jupyter-widgets/base",
      "model_module_version": "1.2.0",
      "model_name": "LayoutModel",
      "state": {
       "_model_module": "@jupyter-widgets/base",
       "_model_module_version": "1.2.0",
       "_model_name": "LayoutModel",
       "_view_count": null,
       "_view_module": "@jupyter-widgets/base",
       "_view_module_version": "1.2.0",
       "_view_name": "LayoutView",
       "align_content": null,
       "align_items": null,
       "align_self": null,
       "border": null,
       "bottom": null,
       "display": null,
       "flex": null,
       "flex_flow": null,
       "grid_area": null,
       "grid_auto_columns": null,
       "grid_auto_flow": null,
       "grid_auto_rows": null,
       "grid_column": null,
       "grid_gap": null,
       "grid_row": null,
       "grid_template_areas": null,
       "grid_template_columns": null,
       "grid_template_rows": null,
       "height": null,
       "justify_content": null,
       "justify_items": null,
       "left": null,
       "margin": null,
       "max_height": null,
       "max_width": null,
       "min_height": null,
       "min_width": null,
       "object_fit": null,
       "object_position": null,
       "order": null,
       "overflow": null,
       "overflow_x": null,
       "overflow_y": null,
       "padding": null,
       "right": null,
       "top": null,
       "visibility": null,
       "width": null
      }
     },
     "efe96e1e0cd2453ca416634c3aeae611": {
      "model_module": "@jupyter-widgets/base",
      "model_module_version": "1.2.0",
      "model_name": "LayoutModel",
      "state": {
       "_model_module": "@jupyter-widgets/base",
       "_model_module_version": "1.2.0",
       "_model_name": "LayoutModel",
       "_view_count": null,
       "_view_module": "@jupyter-widgets/base",
       "_view_module_version": "1.2.0",
       "_view_name": "LayoutView",
       "align_content": null,
       "align_items": null,
       "align_self": null,
       "border": null,
       "bottom": null,
       "display": null,
       "flex": null,
       "flex_flow": null,
       "grid_area": null,
       "grid_auto_columns": null,
       "grid_auto_flow": null,
       "grid_auto_rows": null,
       "grid_column": null,
       "grid_gap": null,
       "grid_row": null,
       "grid_template_areas": null,
       "grid_template_columns": null,
       "grid_template_rows": null,
       "height": null,
       "justify_content": null,
       "justify_items": null,
       "left": null,
       "margin": null,
       "max_height": null,
       "max_width": null,
       "min_height": null,
       "min_width": null,
       "object_fit": null,
       "object_position": null,
       "order": null,
       "overflow": null,
       "overflow_x": null,
       "overflow_y": null,
       "padding": null,
       "right": null,
       "top": null,
       "visibility": null,
       "width": null
      }
     },
     "f3e7afe6fbb546abb520bad9db0c6b4b": {
      "model_module": "@jupyter-widgets/base",
      "model_module_version": "1.2.0",
      "model_name": "LayoutModel",
      "state": {
       "_model_module": "@jupyter-widgets/base",
       "_model_module_version": "1.2.0",
       "_model_name": "LayoutModel",
       "_view_count": null,
       "_view_module": "@jupyter-widgets/base",
       "_view_module_version": "1.2.0",
       "_view_name": "LayoutView",
       "align_content": null,
       "align_items": null,
       "align_self": null,
       "border": null,
       "bottom": null,
       "display": null,
       "flex": null,
       "flex_flow": null,
       "grid_area": null,
       "grid_auto_columns": null,
       "grid_auto_flow": null,
       "grid_auto_rows": null,
       "grid_column": null,
       "grid_gap": null,
       "grid_row": null,
       "grid_template_areas": null,
       "grid_template_columns": null,
       "grid_template_rows": null,
       "height": null,
       "justify_content": null,
       "justify_items": null,
       "left": null,
       "margin": null,
       "max_height": null,
       "max_width": null,
       "min_height": null,
       "min_width": null,
       "object_fit": null,
       "object_position": null,
       "order": null,
       "overflow": null,
       "overflow_x": null,
       "overflow_y": null,
       "padding": null,
       "right": null,
       "top": null,
       "visibility": null,
       "width": null
      }
     },
     "fa5d1c11aff240a6b1f70de1d98d3247": {
      "model_module": "@jupyter-widgets/controls",
      "model_module_version": "1.5.0",
      "model_name": "HTMLModel",
      "state": {
       "_dom_classes": [],
       "_model_module": "@jupyter-widgets/controls",
       "_model_module_version": "1.5.0",
       "_model_name": "HTMLModel",
       "_view_count": null,
       "_view_module": "@jupyter-widgets/controls",
       "_view_module_version": "1.5.0",
       "_view_name": "HTMLView",
       "description": "",
       "description_tooltip": null,
       "layout": "IPY_MODEL_6c64f0e8996347c7afe655c0f5c9e2c7",
       "placeholder": "​",
       "style": "IPY_MODEL_3b03fda46af9434fb7495db3bd3c2953",
       "value": "train_batch (Avg. Loss 0.179, Accuracy 92.9): 100%"
      }
     },
     "fd39267b14a24abf97735f423c35351a": {
      "model_module": "@jupyter-widgets/base",
      "model_module_version": "1.2.0",
      "model_name": "LayoutModel",
      "state": {
       "_model_module": "@jupyter-widgets/base",
       "_model_module_version": "1.2.0",
       "_model_name": "LayoutModel",
       "_view_count": null,
       "_view_module": "@jupyter-widgets/base",
       "_view_module_version": "1.2.0",
       "_view_name": "LayoutView",
       "align_content": null,
       "align_items": null,
       "align_self": null,
       "border": null,
       "bottom": null,
       "display": null,
       "flex": null,
       "flex_flow": null,
       "grid_area": null,
       "grid_auto_columns": null,
       "grid_auto_flow": null,
       "grid_auto_rows": null,
       "grid_column": null,
       "grid_gap": null,
       "grid_row": null,
       "grid_template_areas": null,
       "grid_template_columns": null,
       "grid_template_rows": null,
       "height": null,
       "justify_content": null,
       "justify_items": null,
       "left": null,
       "margin": null,
       "max_height": null,
       "max_width": null,
       "min_height": null,
       "min_width": null,
       "object_fit": null,
       "object_position": null,
       "order": null,
       "overflow": null,
       "overflow_x": null,
       "overflow_y": null,
       "padding": null,
       "right": null,
       "top": null,
       "visibility": null,
       "width": null
      }
     },
     "fff3d2bfd56a4122b44716e77d79f5de": {
      "model_module": "@jupyter-widgets/controls",
      "model_module_version": "1.5.0",
      "model_name": "DescriptionStyleModel",
      "state": {
       "_model_module": "@jupyter-widgets/controls",
       "_model_module_version": "1.5.0",
       "_model_name": "DescriptionStyleModel",
       "_view_count": null,
       "_view_module": "@jupyter-widgets/base",
       "_view_module_version": "1.2.0",
       "_view_name": "StyleView",
       "description_width": ""
      }
     }
    },
    "version_major": 2,
    "version_minor": 0
   }
  }
 },
 "nbformat": 4,
 "nbformat_minor": 5
}
